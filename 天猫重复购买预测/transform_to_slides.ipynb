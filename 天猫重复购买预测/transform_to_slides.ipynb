{
 "cells": [
  {
   "cell_type": "code",
   "execution_count": 1,
   "metadata": {},
   "outputs": [],
   "source": [
    "import os\n",
    "import json\n",
    "import glob\n",
    "\n",
    "# 获取当前目录下所有的 .ipynb 文件\n",
    "notebooks = glob.glob(\"*.ipynb\")\n",
    "\n",
    "for notebook in notebooks:\n",
    "    if not notebook.startswith(\"天猫\"): continue\n",
    "    # 读取文件内容\n",
    "    with open(notebook, \"r\") as f:\n",
    "        data = json.load(f)\n",
    "\n",
    "    # 遍历所有的 cell，将 slide_type 设置为 \"slide\"\n",
    "    for cell in data[\"cells\"]:\n",
    "        if \"metadata\" not in cell:\n",
    "            cell[\"metadata\"] = {}\n",
    "        if \"slideshow\" not in cell[\"metadata\"]:\n",
    "            cell[\"metadata\"][\"slideshow\"] = {}\n",
    "        cell[\"metadata\"][\"slideshow\"][\"slide_type\"] = \"slide\"\n",
    "\n",
    "    # 将修改后的内容写回文件\n",
    "    with open(notebook, \"w\") as f:\n",
    "        json.dump(data, f, indent=2)"
   ]
  }
 ],
 "metadata": {
  "kernelspec": {
   "display_name": "py12",
   "language": "python",
   "name": "python3"
  },
  "language_info": {
   "codemirror_mode": {
    "name": "ipython",
    "version": 3
   },
   "file_extension": ".py",
   "mimetype": "text/x-python",
   "name": "python",
   "nbconvert_exporter": "python",
   "pygments_lexer": "ipython3",
   "version": "3.12.2"
  }
 },
 "nbformat": 4,
 "nbformat_minor": 2
}
