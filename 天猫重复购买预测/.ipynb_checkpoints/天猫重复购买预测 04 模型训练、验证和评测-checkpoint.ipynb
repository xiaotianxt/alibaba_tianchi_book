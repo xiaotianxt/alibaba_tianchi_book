{
 "cells": [
  {
   "cell_type": "markdown",
   "metadata": {
    "slideshow": {
     "slide_type": "slide"
    }
   },
   "source": [
    "## 导入相关包\n"
   ]
  },
  {
   "cell_type": "code",
   "execution_count": 3,
   "metadata": {
    "slideshow": {
     "slide_type": "slide"
    }
   },
   "outputs": [],
   "source": [
    "import pandas as pd\n",
    "import numpy as np\n",
    "\n",
    "import warnings\n",
    "\n",
    "warnings.filterwarnings(\"ignore\")"
   ]
  },
  {
   "cell_type": "markdown",
   "metadata": {
    "slideshow": {
     "slide_type": "slide"
    }
   },
   "source": [
    "## 读取数据（训练数据前 10000 行，测试数据前 100 条）\n"
   ]
  },
  {
   "cell_type": "code",
   "execution_count": 4,
   "metadata": {},
   "outputs": [],
   "source": [
    "# train_data = pd.read_csv(\"train_all.csv\", nrows=10000)\n",
    "# test_data = pd.read_csv(\"test_all.csv\", nrows=100)\n",
    "\n",
    "train_data = pd.read_csv(\"./data_format1/train_all.csv\")\n",
    "test_data = pd.read_csv(\"./data_format1/test_all.csv\")"
   ]
  },
  {
   "cell_type": "code",
   "execution_count": null,
   "metadata": {},
   "outputs": [],
   "source": [
    "import pickle\n",
    "\n",
    "with open(\"./data_format1/train_all.pkl\", \"rb\") as f:\n",
    "    train_data = pickle.load(f)\n",
    "\n",
    "with open(\"./data_format1/test_all.pkl\", \"rb\") as f:\n",
    "    test_data = pickle.load(f)"
   ]
  },
  {
   "cell_type": "code",
   "execution_count": 5,
   "metadata": {
    "slideshow": {
     "slide_type": "skip"
    }
   },
   "outputs": [
    {
     "data": {
      "text/html": [
       "<div>\n",
       "<style scoped>\n",
       "    .dataframe tbody tr th:only-of-type {\n",
       "        vertical-align: middle;\n",
       "    }\n",
       "\n",
       "    .dataframe tbody tr th {\n",
       "        vertical-align: top;\n",
       "    }\n",
       "\n",
       "    .dataframe thead th {\n",
       "        text-align: right;\n",
       "    }\n",
       "</style>\n",
       "<table border=\"1\" class=\"dataframe\">\n",
       "  <thead>\n",
       "    <tr style=\"text-align: right;\">\n",
       "      <th></th>\n",
       "      <th>user_id</th>\n",
       "      <th>merchant_id</th>\n",
       "      <th>age_range</th>\n",
       "      <th>gender</th>\n",
       "      <th>user_cnt</th>\n",
       "      <th>seller_nunique</th>\n",
       "      <th>cat_nunique</th>\n",
       "      <th>brand_nunique</th>\n",
       "      <th>item_nunique</th>\n",
       "      <th>time_stamp_nunique</th>\n",
       "      <th>...</th>\n",
       "      <th>embeeding_93</th>\n",
       "      <th>embeeding_94</th>\n",
       "      <th>embeeding_95</th>\n",
       "      <th>embeeding_96</th>\n",
       "      <th>embeeding_97</th>\n",
       "      <th>embeeding_98</th>\n",
       "      <th>embeeding_99</th>\n",
       "      <th>lgb_clf</th>\n",
       "      <th>xgb_clf</th>\n",
       "      <th>label</th>\n",
       "    </tr>\n",
       "  </thead>\n",
       "  <tbody>\n",
       "    <tr>\n",
       "      <th>0</th>\n",
       "      <td>34176.0</td>\n",
       "      <td>3906.0</td>\n",
       "      <td>6.0</td>\n",
       "      <td>0.0</td>\n",
       "      <td>451.0</td>\n",
       "      <td>109.0</td>\n",
       "      <td>45.0</td>\n",
       "      <td>106.0</td>\n",
       "      <td>256.0</td>\n",
       "      <td>47.0</td>\n",
       "      <td>...</td>\n",
       "      <td>0.0</td>\n",
       "      <td>0.0</td>\n",
       "      <td>0.0</td>\n",
       "      <td>0.0</td>\n",
       "      <td>0.0</td>\n",
       "      <td>0.0</td>\n",
       "      <td>0.0</td>\n",
       "      <td>0.906796</td>\n",
       "      <td>0.891512</td>\n",
       "      <td>0.0</td>\n",
       "    </tr>\n",
       "    <tr>\n",
       "      <th>1</th>\n",
       "      <td>34176.0</td>\n",
       "      <td>121.0</td>\n",
       "      <td>6.0</td>\n",
       "      <td>0.0</td>\n",
       "      <td>451.0</td>\n",
       "      <td>109.0</td>\n",
       "      <td>45.0</td>\n",
       "      <td>106.0</td>\n",
       "      <td>256.0</td>\n",
       "      <td>47.0</td>\n",
       "      <td>...</td>\n",
       "      <td>0.0</td>\n",
       "      <td>0.0</td>\n",
       "      <td>0.0</td>\n",
       "      <td>0.0</td>\n",
       "      <td>0.0</td>\n",
       "      <td>0.0</td>\n",
       "      <td>0.0</td>\n",
       "      <td>0.907100</td>\n",
       "      <td>0.875018</td>\n",
       "      <td>0.0</td>\n",
       "    </tr>\n",
       "    <tr>\n",
       "      <th>2</th>\n",
       "      <td>34176.0</td>\n",
       "      <td>4356.0</td>\n",
       "      <td>6.0</td>\n",
       "      <td>0.0</td>\n",
       "      <td>451.0</td>\n",
       "      <td>109.0</td>\n",
       "      <td>45.0</td>\n",
       "      <td>106.0</td>\n",
       "      <td>256.0</td>\n",
       "      <td>47.0</td>\n",
       "      <td>...</td>\n",
       "      <td>0.0</td>\n",
       "      <td>0.0</td>\n",
       "      <td>0.0</td>\n",
       "      <td>0.0</td>\n",
       "      <td>0.0</td>\n",
       "      <td>0.0</td>\n",
       "      <td>0.0</td>\n",
       "      <td>0.938254</td>\n",
       "      <td>0.946866</td>\n",
       "      <td>1.0</td>\n",
       "    </tr>\n",
       "    <tr>\n",
       "      <th>3</th>\n",
       "      <td>34176.0</td>\n",
       "      <td>2217.0</td>\n",
       "      <td>6.0</td>\n",
       "      <td>0.0</td>\n",
       "      <td>451.0</td>\n",
       "      <td>109.0</td>\n",
       "      <td>45.0</td>\n",
       "      <td>106.0</td>\n",
       "      <td>256.0</td>\n",
       "      <td>47.0</td>\n",
       "      <td>...</td>\n",
       "      <td>0.0</td>\n",
       "      <td>0.0</td>\n",
       "      <td>0.0</td>\n",
       "      <td>0.0</td>\n",
       "      <td>0.0</td>\n",
       "      <td>0.0</td>\n",
       "      <td>0.0</td>\n",
       "      <td>0.905689</td>\n",
       "      <td>0.888932</td>\n",
       "      <td>0.0</td>\n",
       "    </tr>\n",
       "    <tr>\n",
       "      <th>4</th>\n",
       "      <td>230784.0</td>\n",
       "      <td>4818.0</td>\n",
       "      <td>0.0</td>\n",
       "      <td>0.0</td>\n",
       "      <td>54.0</td>\n",
       "      <td>20.0</td>\n",
       "      <td>17.0</td>\n",
       "      <td>19.0</td>\n",
       "      <td>31.0</td>\n",
       "      <td>16.0</td>\n",
       "      <td>...</td>\n",
       "      <td>0.0</td>\n",
       "      <td>0.0</td>\n",
       "      <td>0.0</td>\n",
       "      <td>0.0</td>\n",
       "      <td>0.0</td>\n",
       "      <td>0.0</td>\n",
       "      <td>0.0</td>\n",
       "      <td>0.943575</td>\n",
       "      <td>0.928993</td>\n",
       "      <td>0.0</td>\n",
       "    </tr>\n",
       "  </tbody>\n",
       "</table>\n",
       "<p>5 rows × 231 columns</p>\n",
       "</div>"
      ],
      "text/plain": [
       "    user_id  merchant_id  age_range  gender  user_cnt  seller_nunique  \\\n",
       "0   34176.0       3906.0        6.0     0.0     451.0           109.0   \n",
       "1   34176.0        121.0        6.0     0.0     451.0           109.0   \n",
       "2   34176.0       4356.0        6.0     0.0     451.0           109.0   \n",
       "3   34176.0       2217.0        6.0     0.0     451.0           109.0   \n",
       "4  230784.0       4818.0        0.0     0.0      54.0            20.0   \n",
       "\n",
       "   cat_nunique  brand_nunique  item_nunique  time_stamp_nunique  ...  \\\n",
       "0         45.0          106.0         256.0                47.0  ...   \n",
       "1         45.0          106.0         256.0                47.0  ...   \n",
       "2         45.0          106.0         256.0                47.0  ...   \n",
       "3         45.0          106.0         256.0                47.0  ...   \n",
       "4         17.0           19.0          31.0                16.0  ...   \n",
       "\n",
       "   embeeding_93  embeeding_94  embeeding_95  embeeding_96  embeeding_97  \\\n",
       "0           0.0           0.0           0.0           0.0           0.0   \n",
       "1           0.0           0.0           0.0           0.0           0.0   \n",
       "2           0.0           0.0           0.0           0.0           0.0   \n",
       "3           0.0           0.0           0.0           0.0           0.0   \n",
       "4           0.0           0.0           0.0           0.0           0.0   \n",
       "\n",
       "   embeeding_98  embeeding_99   lgb_clf   xgb_clf  label  \n",
       "0           0.0           0.0  0.906796  0.891512    0.0  \n",
       "1           0.0           0.0  0.907100  0.875018    0.0  \n",
       "2           0.0           0.0  0.938254  0.946866    1.0  \n",
       "3           0.0           0.0  0.905689  0.888932    0.0  \n",
       "4           0.0           0.0  0.943575  0.928993    0.0  \n",
       "\n",
       "[5 rows x 231 columns]"
      ]
     },
     "execution_count": 5,
     "metadata": {},
     "output_type": "execute_result"
    }
   ],
   "source": [
    "train_data.head()"
   ]
  },
  {
   "cell_type": "code",
   "execution_count": 6,
   "metadata": {
    "slideshow": {
     "slide_type": "skip"
    }
   },
   "outputs": [
    {
     "data": {
      "text/html": [
       "<div>\n",
       "<style scoped>\n",
       "    .dataframe tbody tr th:only-of-type {\n",
       "        vertical-align: middle;\n",
       "    }\n",
       "\n",
       "    .dataframe tbody tr th {\n",
       "        vertical-align: top;\n",
       "    }\n",
       "\n",
       "    .dataframe thead th {\n",
       "        text-align: right;\n",
       "    }\n",
       "</style>\n",
       "<table border=\"1\" class=\"dataframe\">\n",
       "  <thead>\n",
       "    <tr style=\"text-align: right;\">\n",
       "      <th></th>\n",
       "      <th>user_id</th>\n",
       "      <th>merchant_id</th>\n",
       "      <th>age_range</th>\n",
       "      <th>gender</th>\n",
       "      <th>user_cnt</th>\n",
       "      <th>seller_nunique</th>\n",
       "      <th>cat_nunique</th>\n",
       "      <th>brand_nunique</th>\n",
       "      <th>item_nunique</th>\n",
       "      <th>time_stamp_nunique</th>\n",
       "      <th>...</th>\n",
       "      <th>embeeding_92</th>\n",
       "      <th>embeeding_93</th>\n",
       "      <th>embeeding_94</th>\n",
       "      <th>embeeding_95</th>\n",
       "      <th>embeeding_96</th>\n",
       "      <th>embeeding_97</th>\n",
       "      <th>embeeding_98</th>\n",
       "      <th>embeeding_99</th>\n",
       "      <th>lgb_clf</th>\n",
       "      <th>xgb_clf</th>\n",
       "    </tr>\n",
       "  </thead>\n",
       "  <tbody>\n",
       "    <tr>\n",
       "      <th>0</th>\n",
       "      <td>34176.0</td>\n",
       "      <td>3906.0</td>\n",
       "      <td>6.0</td>\n",
       "      <td>0.0</td>\n",
       "      <td>451.0</td>\n",
       "      <td>109.0</td>\n",
       "      <td>45.0</td>\n",
       "      <td>106.0</td>\n",
       "      <td>256.0</td>\n",
       "      <td>47.0</td>\n",
       "      <td>...</td>\n",
       "      <td>0.0</td>\n",
       "      <td>0.0</td>\n",
       "      <td>0.0</td>\n",
       "      <td>0.0</td>\n",
       "      <td>0.0</td>\n",
       "      <td>0.0</td>\n",
       "      <td>0.0</td>\n",
       "      <td>0.0</td>\n",
       "      <td>0.912218</td>\n",
       "      <td>0.903011</td>\n",
       "    </tr>\n",
       "    <tr>\n",
       "      <th>1</th>\n",
       "      <td>34176.0</td>\n",
       "      <td>121.0</td>\n",
       "      <td>6.0</td>\n",
       "      <td>0.0</td>\n",
       "      <td>451.0</td>\n",
       "      <td>109.0</td>\n",
       "      <td>45.0</td>\n",
       "      <td>106.0</td>\n",
       "      <td>256.0</td>\n",
       "      <td>47.0</td>\n",
       "      <td>...</td>\n",
       "      <td>0.0</td>\n",
       "      <td>0.0</td>\n",
       "      <td>0.0</td>\n",
       "      <td>0.0</td>\n",
       "      <td>0.0</td>\n",
       "      <td>0.0</td>\n",
       "      <td>0.0</td>\n",
       "      <td>0.0</td>\n",
       "      <td>0.908778</td>\n",
       "      <td>0.898900</td>\n",
       "    </tr>\n",
       "    <tr>\n",
       "      <th>2</th>\n",
       "      <td>34176.0</td>\n",
       "      <td>4356.0</td>\n",
       "      <td>6.0</td>\n",
       "      <td>0.0</td>\n",
       "      <td>451.0</td>\n",
       "      <td>109.0</td>\n",
       "      <td>45.0</td>\n",
       "      <td>106.0</td>\n",
       "      <td>256.0</td>\n",
       "      <td>47.0</td>\n",
       "      <td>...</td>\n",
       "      <td>0.0</td>\n",
       "      <td>0.0</td>\n",
       "      <td>0.0</td>\n",
       "      <td>0.0</td>\n",
       "      <td>0.0</td>\n",
       "      <td>0.0</td>\n",
       "      <td>0.0</td>\n",
       "      <td>0.0</td>\n",
       "      <td>0.917077</td>\n",
       "      <td>0.907488</td>\n",
       "    </tr>\n",
       "    <tr>\n",
       "      <th>3</th>\n",
       "      <td>34176.0</td>\n",
       "      <td>2217.0</td>\n",
       "      <td>6.0</td>\n",
       "      <td>0.0</td>\n",
       "      <td>451.0</td>\n",
       "      <td>109.0</td>\n",
       "      <td>45.0</td>\n",
       "      <td>106.0</td>\n",
       "      <td>256.0</td>\n",
       "      <td>47.0</td>\n",
       "      <td>...</td>\n",
       "      <td>0.0</td>\n",
       "      <td>0.0</td>\n",
       "      <td>0.0</td>\n",
       "      <td>0.0</td>\n",
       "      <td>0.0</td>\n",
       "      <td>0.0</td>\n",
       "      <td>0.0</td>\n",
       "      <td>0.0</td>\n",
       "      <td>0.911397</td>\n",
       "      <td>0.906640</td>\n",
       "    </tr>\n",
       "    <tr>\n",
       "      <th>4</th>\n",
       "      <td>230784.0</td>\n",
       "      <td>4818.0</td>\n",
       "      <td>0.0</td>\n",
       "      <td>0.0</td>\n",
       "      <td>54.0</td>\n",
       "      <td>20.0</td>\n",
       "      <td>17.0</td>\n",
       "      <td>19.0</td>\n",
       "      <td>31.0</td>\n",
       "      <td>16.0</td>\n",
       "      <td>...</td>\n",
       "      <td>0.0</td>\n",
       "      <td>0.0</td>\n",
       "      <td>0.0</td>\n",
       "      <td>0.0</td>\n",
       "      <td>0.0</td>\n",
       "      <td>0.0</td>\n",
       "      <td>0.0</td>\n",
       "      <td>0.0</td>\n",
       "      <td>0.953564</td>\n",
       "      <td>0.944130</td>\n",
       "    </tr>\n",
       "  </tbody>\n",
       "</table>\n",
       "<p>5 rows × 230 columns</p>\n",
       "</div>"
      ],
      "text/plain": [
       "    user_id  merchant_id  age_range  gender  user_cnt  seller_nunique  \\\n",
       "0   34176.0       3906.0        6.0     0.0     451.0           109.0   \n",
       "1   34176.0        121.0        6.0     0.0     451.0           109.0   \n",
       "2   34176.0       4356.0        6.0     0.0     451.0           109.0   \n",
       "3   34176.0       2217.0        6.0     0.0     451.0           109.0   \n",
       "4  230784.0       4818.0        0.0     0.0      54.0            20.0   \n",
       "\n",
       "   cat_nunique  brand_nunique  item_nunique  time_stamp_nunique  ...  \\\n",
       "0         45.0          106.0         256.0                47.0  ...   \n",
       "1         45.0          106.0         256.0                47.0  ...   \n",
       "2         45.0          106.0         256.0                47.0  ...   \n",
       "3         45.0          106.0         256.0                47.0  ...   \n",
       "4         17.0           19.0          31.0                16.0  ...   \n",
       "\n",
       "   embeeding_92  embeeding_93  embeeding_94  embeeding_95  embeeding_96  \\\n",
       "0           0.0           0.0           0.0           0.0           0.0   \n",
       "1           0.0           0.0           0.0           0.0           0.0   \n",
       "2           0.0           0.0           0.0           0.0           0.0   \n",
       "3           0.0           0.0           0.0           0.0           0.0   \n",
       "4           0.0           0.0           0.0           0.0           0.0   \n",
       "\n",
       "   embeeding_97  embeeding_98  embeeding_99   lgb_clf   xgb_clf  \n",
       "0           0.0           0.0           0.0  0.912218  0.903011  \n",
       "1           0.0           0.0           0.0  0.908778  0.898900  \n",
       "2           0.0           0.0           0.0  0.917077  0.907488  \n",
       "3           0.0           0.0           0.0  0.911397  0.906640  \n",
       "4           0.0           0.0           0.0  0.953564  0.944130  \n",
       "\n",
       "[5 rows x 230 columns]"
      ]
     },
     "execution_count": 6,
     "metadata": {},
     "output_type": "execute_result"
    }
   ],
   "source": [
    "test_data.head()"
   ]
  },
  {
   "cell_type": "markdown",
   "metadata": {
    "slideshow": {
     "slide_type": "skip"
    }
   },
   "source": [
    "## 读取全部数据\n"
   ]
  },
  {
   "cell_type": "code",
   "execution_count": 7,
   "metadata": {
    "slideshow": {
     "slide_type": "skip"
    }
   },
   "outputs": [],
   "source": [
    "# train_data = pd.read_csv('train_all.csv',nrows=None)\n",
    "# test_data = pd.read_csv('test_all.csv',nrows=None)"
   ]
  },
  {
   "cell_type": "code",
   "execution_count": 8,
   "metadata": {
    "slideshow": {
     "slide_type": "skip"
    }
   },
   "outputs": [
    {
     "data": {
      "text/plain": [
       "Index(['user_id', 'merchant_id', 'age_range', 'gender', 'user_cnt',\n",
       "       'seller_nunique', 'cat_nunique', 'brand_nunique', 'item_nunique',\n",
       "       'time_stamp_nunique',\n",
       "       ...\n",
       "       'embeeding_93', 'embeeding_94', 'embeeding_95', 'embeeding_96',\n",
       "       'embeeding_97', 'embeeding_98', 'embeeding_99', 'lgb_clf', 'xgb_clf',\n",
       "       'label'],\n",
       "      dtype='object', length=231)"
      ]
     },
     "execution_count": 8,
     "metadata": {},
     "output_type": "execute_result"
    }
   ],
   "source": [
    "train_data.columns"
   ]
  },
  {
   "cell_type": "markdown",
   "metadata": {
    "slideshow": {
     "slide_type": "slide"
    }
   },
   "source": [
    "## 获取训练和测试数据\n"
   ]
  },
  {
   "cell_type": "code",
   "execution_count": 9,
   "metadata": {},
   "outputs": [],
   "source": [
    "features_columns = [\n",
    "    col for col in train_data.columns if col not in [\"user_id\", \"label\"]\n",
    "]\n",
    "train = train_data[features_columns].values\n",
    "test = test_data[features_columns].values\n",
    "target = train_data[\"label\"].values"
   ]
  },
  {
   "cell_type": "markdown",
   "metadata": {},
   "source": [
    "## 切分 40%数据用于线下验证\n"
   ]
  },
  {
   "cell_type": "code",
   "execution_count": 10,
   "metadata": {},
   "outputs": [
    {
     "name": "stdout",
     "output_type": "stream",
     "text": [
      "(156518, 229) (156518,)\n",
      "(104346, 229) (104346,)\n"
     ]
    },
    {
     "data": {
      "text/plain": [
       "0.9387710118260403"
      ]
     },
     "execution_count": 10,
     "metadata": {},
     "output_type": "execute_result"
    }
   ],
   "source": [
    "from sklearn.model_selection import train_test_split\n",
    "from sklearn.ensemble import RandomForestClassifier\n",
    "\n",
    "clf = RandomForestClassifier(n_estimators=100, max_depth=2, random_state=0, n_jobs=-1)\n",
    "X_train, X_test, y_train, y_test = train_test_split(\n",
    "    train, target, test_size=0.4, random_state=0\n",
    ")\n",
    "\n",
    "print(X_train.shape, y_train.shape)\n",
    "print(X_test.shape, y_test.shape)\n",
    "\n",
    "clf = clf.fit(X_train, y_train)\n",
    "clf.score(X_test, y_test)"
   ]
  },
  {
   "cell_type": "markdown",
   "metadata": {},
   "source": [
    "## 交叉验证：评估估算器性能\n"
   ]
  },
  {
   "cell_type": "code",
   "execution_count": 11,
   "metadata": {},
   "outputs": [
    {
     "name": "stdout",
     "output_type": "stream",
     "text": [
      "[0.93885726 0.93885726 0.9388381  0.9388381  0.93885609]\n",
      "Accuracy: 0.94 (+/- 0.00)\n"
     ]
    }
   ],
   "source": [
    "from sklearn.model_selection import cross_val_score\n",
    "from sklearn.ensemble import RandomForestClassifier\n",
    "\n",
    "clf = RandomForestClassifier(n_estimators=100, max_depth=2, random_state=0, n_jobs=-1)\n",
    "scores = cross_val_score(clf, train, target, cv=5)\n",
    "print(scores)\n",
    "print(\"Accuracy: %0.2f (+/- %0.2f)\" % (scores.mean(), scores.std() * 2))"
   ]
  },
  {
   "cell_type": "markdown",
   "metadata": {
    "slideshow": {
     "slide_type": "slide"
    }
   },
   "source": [
    "## F1 验证\n"
   ]
  },
  {
   "cell_type": "code",
   "execution_count": 12,
   "metadata": {},
   "outputs": [
    {
     "name": "stdout",
     "output_type": "stream",
     "text": [
      "[0.48423227 0.48423227 0.48422718 0.48422718 0.48423196]\n",
      "F1: 0.48 (+/- 0.00)\n"
     ]
    }
   ],
   "source": [
    "from sklearn import metrics\n",
    "from sklearn.model_selection import cross_val_score\n",
    "from sklearn.ensemble import RandomForestClassifier\n",
    "\n",
    "clf = RandomForestClassifier(n_estimators=100, max_depth=2, random_state=0, n_jobs=-1)\n",
    "scores = cross_val_score(clf, train, target, cv=5, scoring=\"f1_macro\")\n",
    "print(scores)\n",
    "print(\"F1: %0.2f (+/- %0.2f)\" % (scores.mean(), scores.std() * 2))"
   ]
  },
  {
   "cell_type": "markdown",
   "metadata": {},
   "source": [
    "## ShuffleSplit 切分数据\n"
   ]
  },
  {
   "cell_type": "code",
   "execution_count": 13,
   "metadata": {},
   "outputs": [
    {
     "data": {
      "text/plain": [
       "array([0.93870432, 0.93828265, 0.93956044, 0.94040378, 0.93763097])"
      ]
     },
     "execution_count": 13,
     "metadata": {},
     "output_type": "execute_result"
    }
   ],
   "source": [
    "from sklearn.model_selection import ShuffleSplit\n",
    "from sklearn.model_selection import cross_val_score\n",
    "from sklearn.ensemble import RandomForestClassifier\n",
    "\n",
    "clf = RandomForestClassifier(n_estimators=100, max_depth=2, random_state=0, n_jobs=-1)\n",
    "cv = ShuffleSplit(n_splits=5, test_size=0.3, random_state=0)\n",
    "cross_val_score(clf, train, target, cv=cv)"
   ]
  },
  {
   "cell_type": "markdown",
   "metadata": {
    "slideshow": {
     "slide_type": "slide"
    }
   },
   "source": [
    "## 自己写交叉验证\n"
   ]
  },
  {
   "cell_type": "markdown",
   "metadata": {
    "slideshow": {
     "slide_type": "slide"
    }
   },
   "source": [
    "### KFlod 切分数据\n"
   ]
  },
  {
   "cell_type": "code",
   "execution_count": 14,
   "metadata": {
    "scrolled": true
   },
   "outputs": [
    {
     "name": "stdout",
     "output_type": "stream",
     "text": [
      "0 0.9395089414064746\n",
      "1 0.9386272593103713\n",
      "2 0.9374005711766623\n",
      "3 0.9398539474440802\n",
      "4 0.9388560913900177\n"
     ]
    }
   ],
   "source": [
    "import numpy as np\n",
    "from sklearn.model_selection import KFold\n",
    "from sklearn.ensemble import RandomForestClassifier\n",
    "\n",
    "clf = RandomForestClassifier(n_estimators=100, max_depth=2, random_state=0, n_jobs=-1)\n",
    "kf = KFold(n_splits=5)\n",
    "for k, (train_index, test_index) in enumerate(kf.split(train)):\n",
    "    X_train, X_test, y_train, y_test = (\n",
    "        train[train_index],\n",
    "        train[test_index],\n",
    "        target[train_index],\n",
    "        target[test_index],\n",
    "    )\n",
    "    clf = clf.fit(X_train, y_train)\n",
    "    print(k, clf.score(X_test, y_test))"
   ]
  },
  {
   "cell_type": "markdown",
   "metadata": {
    "slideshow": {
     "slide_type": "slide"
    }
   },
   "source": [
    "### StratifiedKFold 切分数据(label 均分)\n"
   ]
  },
  {
   "cell_type": "code",
   "execution_count": 15,
   "metadata": {},
   "outputs": [
    {
     "name": "stdout",
     "output_type": "stream",
     "text": [
      "0 0.9388572633354417\n",
      "1 0.9388572633354417\n",
      "2 0.9388380963333525\n",
      "3 0.9388380963333525\n",
      "4 0.9388560913900177\n"
     ]
    }
   ],
   "source": [
    "from sklearn.model_selection import StratifiedKFold\n",
    "from sklearn.ensemble import RandomForestClassifier\n",
    "\n",
    "clf = RandomForestClassifier(n_estimators=100, max_depth=2, random_state=0, n_jobs=-1)\n",
    "skf = StratifiedKFold(n_splits=5)\n",
    "for k, (train_index, test_index) in enumerate(skf.split(train, target)):\n",
    "    X_train, X_test, y_train, y_test = (\n",
    "        train[train_index],\n",
    "        train[test_index],\n",
    "        target[train_index],\n",
    "        target[test_index],\n",
    "    )\n",
    "    clf = clf.fit(X_train, y_train)\n",
    "    print(k, clf.score(X_test, y_test))"
   ]
  },
  {
   "cell_type": "markdown",
   "metadata": {
    "slideshow": {
     "slide_type": "slide"
    }
   },
   "source": [
    "## 模型调参\n"
   ]
  },
  {
   "cell_type": "code",
   "execution_count": 16,
   "metadata": {},
   "outputs": [
    {
     "name": "stdout",
     "output_type": "stream",
     "text": [
      "# Tuning hyper-parameters for precision\n",
      "\n",
      "Best parameters set found on development set:\n",
      "\n",
      "{'n_estimators': 200}\n",
      "\n",
      "Grid scores on development set:\n",
      "\n",
      "0.525 (+/-0.028) for {'n_estimators': 50}\n",
      "0.537 (+/-0.032) for {'n_estimators': 100}\n",
      "0.538 (+/-0.055) for {'n_estimators': 200}\n",
      "\n",
      "Detailed classification report:\n",
      "\n",
      "The model is trained on the full development set.\n",
      "The scores are computed on the full evaluation set.\n",
      "\n",
      "              precision    recall  f1-score   support\n",
      "\n",
      "         0.0       0.94      1.00      0.97    122462\n",
      "         1.0       0.16      0.00      0.01      7970\n",
      "\n",
      "    accuracy                           0.94    130432\n",
      "   macro avg       0.55      0.50      0.49    130432\n",
      "weighted avg       0.89      0.94      0.91    130432\n",
      "\n",
      "\n"
     ]
    }
   ],
   "source": [
    "from sklearn.model_selection import train_test_split\n",
    "from sklearn.model_selection import GridSearchCV\n",
    "from sklearn.metrics import classification_report\n",
    "from sklearn.ensemble import RandomForestClassifier\n",
    "\n",
    "\n",
    "# Split the dataset in two equal parts\n",
    "X_train, X_test, y_train, y_test = train_test_split(\n",
    "    train, target, test_size=0.5, random_state=0\n",
    ")\n",
    "\n",
    "# model\n",
    "clf = RandomForestClassifier(n_jobs=-1)\n",
    "\n",
    "# Set the parameters by cross-validation\n",
    "\n",
    "tuned_parameters = {\n",
    "    \"n_estimators\": [50, 100, 200],\n",
    "    # \"criterion\": [\"gini\", \"entropy\"],\n",
    "    # \"max_depth\": [2, 5],\n",
    "    # \"max_features\": [\"log2\", \"sqrt\", \"int\"],\n",
    "    # \"bootstrap\": [True, False],\n",
    "    # \"warm_start\": [True, False],\n",
    "}\n",
    "\n",
    "scores = [\"precision\"]\n",
    "\n",
    "for score in scores:\n",
    "    print(\"# Tuning hyper-parameters for %s\" % score)\n",
    "    print()\n",
    "\n",
    "    clf = GridSearchCV(clf, tuned_parameters, cv=5, scoring=\"%s_macro\" % score)\n",
    "    clf.fit(X_train, y_train)\n",
    "\n",
    "    print(\"Best parameters set found on development set:\")\n",
    "    print()\n",
    "    print(clf.best_params_)\n",
    "    print()\n",
    "    print(\"Grid scores on development set:\")\n",
    "    print()\n",
    "    means = clf.cv_results_[\"mean_test_score\"]\n",
    "    stds = clf.cv_results_[\"std_test_score\"]\n",
    "    for mean, std, params in zip(means, stds, clf.cv_results_[\"params\"]):\n",
    "        print(\"%0.3f (+/-%0.03f) for %r\" % (mean, std * 2, params))\n",
    "    print()\n",
    "\n",
    "    print(\"Detailed classification report:\")\n",
    "    print()\n",
    "    print(\"The model is trained on the full development set.\")\n",
    "    print(\"The scores are computed on the full evaluation set.\")\n",
    "    print()\n",
    "    y_true, y_pred = y_test, clf.predict(X_test)\n",
    "    print(classification_report(y_true, y_pred))\n",
    "    print()"
   ]
  },
  {
   "cell_type": "markdown",
   "metadata": {
    "slideshow": {
     "slide_type": "slide"
    }
   },
   "source": [
    "## 模糊矩阵\n"
   ]
  },
  {
   "cell_type": "code",
   "execution_count": 13,
   "metadata": {},
   "outputs": [
    {
     "name": "stdout",
     "output_type": "stream",
     "text": [
      "Confusion matrix, without normalization\n",
      "[[61139    75]\n",
      " [ 3982    20]]\n",
      "Normalized confusion matrix\n",
      "[[1. 0.]\n",
      " [1. 0.]]\n"
     ]
    },
    {
     "data": {
      "image/png": "[encoded data removed]",
      "text/plain": [
       "<Figure size 640x480 with 2 Axes>"
      ]
     },
     "metadata": {},
     "output_type": "display_data"
    },
    {
     "data": {
      "image/png": "[encoded data removed]",
      "text/plain": [
       "<Figure size 640x480 with 2 Axes>"
      ]
     },
     "metadata": {},
     "output_type": "display_data"
    }
   ],
   "source": [
    "import itertools\n",
    "import numpy as np\n",
    "import matplotlib.pyplot as plt\n",
    "\n",
    "from sklearn.model_selection import train_test_split\n",
    "from sklearn.metrics import confusion_matrix\n",
    "from sklearn.ensemble import RandomForestClassifier\n",
    "\n",
    "# label name\n",
    "class_names = [\"no-repeat\", \"repeat\"]\n",
    "\n",
    "# Split the data into a training set and a test set\n",
    "X_train, X_test, y_train, y_test = train_test_split(train, target, random_state=0)\n",
    "\n",
    "# Run classifier, using a model that is too regularized (C too low) to see\n",
    "# the impact on the results\n",
    "clf = RandomForestClassifier(n_jobs=-1)\n",
    "y_pred = clf.fit(X_train, y_train).predict(X_test)\n",
    "\n",
    "\n",
    "def plot_confusion_matrix(\n",
    "    cm, classes, normalize=False, title=\"Confusion matrix\", cmap=plt.cm.Blues\n",
    "):\n",
    "    \"\"\"\n",
    "    This function prints and plots the confusion matrix.\n",
    "    Normalization can be applied by setting `normalize=True`.\n",
    "    \"\"\"\n",
    "    if normalize:\n",
    "        cm = cm.astype(\"float\") / cm.sum(axis=1)[:, np.newaxis]\n",
    "        print(\"Normalized confusion matrix\")\n",
    "    else:\n",
    "        print(\"Confusion matrix, without normalization\")\n",
    "\n",
    "    print(cm)\n",
    "\n",
    "    plt.imshow(cm, interpolation=\"nearest\", cmap=cmap)\n",
    "    plt.title(title)\n",
    "    plt.colorbar()\n",
    "    tick_marks = np.arange(len(classes))\n",
    "    plt.xticks(tick_marks, classes, rotation=45)\n",
    "    plt.yticks(tick_marks, classes)\n",
    "\n",
    "    fmt = \".2f\" if normalize else \"d\"\n",
    "    thresh = cm.max() / 2.0\n",
    "    for i, j in itertools.product(range(cm.shape[0]), range(cm.shape[1])):\n",
    "        plt.text(\n",
    "            j,\n",
    "            i,\n",
    "            format(cm[i, j], fmt),\n",
    "            horizontalalignment=\"center\",\n",
    "            color=\"white\" if cm[i, j] > thresh else \"black\",\n",
    "        )\n",
    "\n",
    "    plt.ylabel(\"True label\")\n",
    "    plt.xlabel(\"Predicted label\")\n",
    "    plt.tight_layout()\n",
    "\n",
    "\n",
    "# Compute confusion matrix\n",
    "cnf_matrix = confusion_matrix(y_test, y_pred)\n",
    "np.set_printoptions(precision=2)\n",
    "\n",
    "# Plot non-normalized confusion matrix\n",
    "plt.figure()\n",
    "plot_confusion_matrix(\n",
    "    cnf_matrix, classes=class_names, title=\"Confusion matrix, without normalization\"\n",
    ")\n",
    "\n",
    "# Plot normalized confusion matrix\n",
    "plt.figure()\n",
    "plot_confusion_matrix(\n",
    "    cnf_matrix, classes=class_names, normalize=True, title=\"Normalized confusion matrix\"\n",
    ")\n",
    "\n",
    "plt.show()"
   ]
  },
  {
   "cell_type": "code",
   "execution_count": 18,
   "metadata": {
    "slideshow": {
     "slide_type": "slide"
    }
   },
   "outputs": [
    {
     "name": "stdout",
     "output_type": "stream",
     "text": [
      "              precision    recall  f1-score   support\n",
      "\n",
      "   no-repeat       0.94      1.00      0.97     61214\n",
      "      repeat       0.25      0.01      0.01      4002\n",
      "\n",
      "    accuracy                           0.94     65216\n",
      "   macro avg       0.60      0.50      0.49     65216\n",
      "weighted avg       0.90      0.94      0.91     65216\n",
      "\n"
     ]
    }
   ],
   "source": [
    "from sklearn.metrics import classification_report\n",
    "from sklearn.ensemble import RandomForestClassifier\n",
    "\n",
    "# label name\n",
    "class_names = [\"no-repeat\", \"repeat\"]\n",
    "\n",
    "# Split the data into a training set and a test set\n",
    "X_train, X_test, y_train, y_test = train_test_split(train, target, random_state=0)\n",
    "\n",
    "# Run classifier, using a model that is too regularized (C too low) to see\n",
    "# the impact on the results\n",
    "clf = RandomForestClassifier(n_jobs=-1)\n",
    "y_pred = clf.fit(X_train, y_train).predict(X_test)\n",
    "\n",
    "print(classification_report(y_test, y_pred, target_names=class_names))"
   ]
  },
  {
   "cell_type": "markdown",
   "metadata": {
    "slideshow": {
     "slide_type": "slide"
    }
   },
   "source": [
    "## 不同的分类模型\n"
   ]
  },
  {
   "cell_type": "markdown",
   "metadata": {},
   "source": [
    "### LR 模型\n"
   ]
  },
  {
   "cell_type": "code",
   "execution_count": 20,
   "metadata": {},
   "outputs": [
    {
     "data": {
      "text/plain": [
       "0.9386193572129539"
      ]
     },
     "execution_count": 20,
     "metadata": {},
     "output_type": "execute_result"
    }
   ],
   "source": [
    "from sklearn.linear_model import LogisticRegression\n",
    "from sklearn.preprocessing import StandardScaler\n",
    "\n",
    "stdScaler = StandardScaler()\n",
    "X = stdScaler.fit_transform(train)\n",
    "\n",
    "# Split the data into a training set and a test set\n",
    "X_train, X_test, y_train, y_test = train_test_split(X, target, random_state=0)\n",
    "\n",
    "clf = LogisticRegression(random_state=0, solver=\"lbfgs\", multi_class=\"multinomial\").fit(\n",
    "    X_train, y_train\n",
    ")\n",
    "clf.score(X_test, y_test)"
   ]
  },
  {
   "cell_type": "markdown",
   "metadata": {
    "slideshow": {
     "slide_type": "slide"
    }
   },
   "source": [
    "### KNN 模型\n"
   ]
  },
  {
   "cell_type": "code",
   "execution_count": 21,
   "metadata": {},
   "outputs": [
    {
     "data": {
      "text/plain": [
       "0.9287444798822375"
      ]
     },
     "execution_count": 21,
     "metadata": {},
     "output_type": "execute_result"
    }
   ],
   "source": [
    "from sklearn.neighbors import KNeighborsClassifier\n",
    "from sklearn.preprocessing import StandardScaler\n",
    "\n",
    "stdScaler = StandardScaler()\n",
    "X = stdScaler.fit_transform(train)\n",
    "\n",
    "# Split the data into a training set and a test set\n",
    "X_train, X_test, y_train, y_test = train_test_split(X, target, random_state=0)\n",
    "\n",
    "clf = KNeighborsClassifier(n_neighbors=3).fit(X_train, y_train)\n",
    "clf.score(X_test, y_test)"
   ]
  },
  {
   "cell_type": "markdown",
   "metadata": {
    "slideshow": {
     "slide_type": "slide"
    }
   },
   "source": [
    "## GaussianNB 模型\n"
   ]
  },
  {
   "cell_type": "code",
   "execution_count": 24,
   "metadata": {},
   "outputs": [
    {
     "data": {
      "text/plain": [
       "0.7296368989205103"
      ]
     },
     "execution_count": 24,
     "metadata": {},
     "output_type": "execute_result"
    }
   ],
   "source": [
    "from sklearn.naive_bayes import GaussianNB\n",
    "from sklearn.preprocessing import StandardScaler\n",
    "\n",
    "stdScaler = StandardScaler()\n",
    "X = stdScaler.fit_transform(train)\n",
    "\n",
    "# Split the data into a training set and a test set\n",
    "X_train, X_test, y_train, y_test = train_test_split(X, target, random_state=0)\n",
    "\n",
    "clf = GaussianNB().fit(X_train, y_train)\n",
    "clf.score(X_test, y_test)"
   ]
  },
  {
   "cell_type": "markdown",
   "metadata": {
    "slideshow": {
     "slide_type": "slide"
    }
   },
   "source": [
    "## tree 树模型\n"
   ]
  },
  {
   "cell_type": "code",
   "execution_count": 25,
   "metadata": {},
   "outputs": [
    {
     "data": {
      "text/plain": [
       "0.880259445534838"
      ]
     },
     "execution_count": 25,
     "metadata": {},
     "output_type": "execute_result"
    }
   ],
   "source": [
    "from sklearn import tree\n",
    "\n",
    "# Split the data into a training set and a test set\n",
    "X_train, X_test, y_train, y_test = train_test_split(train, target, random_state=0)\n",
    "\n",
    "clf = tree.DecisionTreeClassifier()\n",
    "clf = clf.fit(X_train, y_train)\n",
    "clf.score(X_test, y_test)"
   ]
  },
  {
   "cell_type": "markdown",
   "metadata": {
    "slideshow": {
     "slide_type": "slide"
    }
   },
   "source": [
    "## bagging 模型\n"
   ]
  },
  {
   "cell_type": "code",
   "execution_count": 26,
   "metadata": {},
   "outputs": [
    {
     "data": {
      "text/plain": [
       "0.9386346908734053"
      ]
     },
     "execution_count": 26,
     "metadata": {},
     "output_type": "execute_result"
    }
   ],
   "source": [
    "from sklearn.ensemble import BaggingClassifier\n",
    "from sklearn.neighbors import KNeighborsClassifier\n",
    "\n",
    "# Split the data into a training set and a test set\n",
    "X_train, X_test, y_train, y_test = train_test_split(train, target, random_state=0)\n",
    "clf = BaggingClassifier(KNeighborsClassifier(), max_samples=0.5, max_features=0.5)\n",
    "\n",
    "clf = clf.fit(X_train, y_train)\n",
    "clf.score(X_test, y_test)"
   ]
  },
  {
   "cell_type": "markdown",
   "metadata": {
    "slideshow": {
     "slide_type": "slide"
    }
   },
   "source": [
    "## 随机森林模型\n"
   ]
  },
  {
   "cell_type": "code",
   "execution_count": 27,
   "metadata": {},
   "outputs": [
    {
     "data": {
      "text/plain": [
       "0.9386346908734053"
      ]
     },
     "execution_count": 27,
     "metadata": {},
     "output_type": "execute_result"
    }
   ],
   "source": [
    "from sklearn.ensemble import RandomForestClassifier\n",
    "\n",
    "# Split the data into a training set and a test set\n",
    "X_train, X_test, y_train, y_test = train_test_split(train, target, random_state=0)\n",
    "clf = clf = RandomForestClassifier(\n",
    "    n_estimators=10, max_depth=3, min_samples_split=12, random_state=0\n",
    ")\n",
    "\n",
    "clf = clf.fit(X_train, y_train)\n",
    "clf.score(X_test, y_test)"
   ]
  },
  {
   "cell_type": "markdown",
   "metadata": {
    "slideshow": {
     "slide_type": "slide"
    }
   },
   "source": [
    "## ExTree 模型\n"
   ]
  },
  {
   "cell_type": "code",
   "execution_count": 28,
   "metadata": {},
   "outputs": [
    {
     "data": {
      "text/plain": [
       "0.9316578753680078"
      ]
     },
     "execution_count": 28,
     "metadata": {},
     "output_type": "execute_result"
    }
   ],
   "source": [
    "from sklearn.ensemble import ExtraTreesClassifier\n",
    "\n",
    "# Split the data into a training set and a test set\n",
    "X_train, X_test, y_train, y_test = train_test_split(train, target, random_state=0)\n",
    "clf = ExtraTreesClassifier(\n",
    "    n_estimators=10, max_depth=None, min_samples_split=2, random_state=0\n",
    ")\n",
    "\n",
    "clf = clf.fit(X_train, y_train)\n",
    "clf.score(X_test, y_test)"
   ]
  },
  {
   "cell_type": "markdown",
   "metadata": {
    "slideshow": {
     "slide_type": "slide"
    }
   },
   "source": [
    "## AdaBoost 模型\n"
   ]
  },
  {
   "cell_type": "code",
   "execution_count": 31,
   "metadata": {},
   "outputs": [
    {
     "data": {
      "text/plain": [
       "0.9386346908734053"
      ]
     },
     "execution_count": 31,
     "metadata": {},
     "output_type": "execute_result"
    }
   ],
   "source": [
    "from sklearn.ensemble import AdaBoostClassifier\n",
    "\n",
    "# Split the data into a training set and a test set\n",
    "X_train, X_test, y_train, y_test = train_test_split(train, target, random_state=0)\n",
    "clf = AdaBoostClassifier(n_estimators=10)\n",
    "\n",
    "clf = clf.fit(X_train, y_train)\n",
    "clf.score(X_test, y_test)"
   ]
  },
  {
   "cell_type": "markdown",
   "metadata": {
    "slideshow": {
     "slide_type": "slide"
    }
   },
   "source": [
    "## GBDT 模型\n"
   ]
  },
  {
   "cell_type": "code",
   "execution_count": 32,
   "metadata": {},
   "outputs": [
    {
     "data": {
      "text/plain": [
       "0.9386346908734053"
      ]
     },
     "execution_count": 32,
     "metadata": {},
     "output_type": "execute_result"
    }
   ],
   "source": [
    "from sklearn.ensemble import GradientBoostingClassifier\n",
    "\n",
    "# Split the data into a training set and a test set\n",
    "X_train, X_test, y_train, y_test = train_test_split(train, target, random_state=0)\n",
    "clf = GradientBoostingClassifier(\n",
    "    n_estimators=10, learning_rate=1.0, max_depth=1, random_state=0\n",
    ")\n",
    "\n",
    "clf = clf.fit(X_train, y_train)\n",
    "clf.score(X_test, y_test)"
   ]
  },
  {
   "cell_type": "markdown",
   "metadata": {
    "slideshow": {
     "slide_type": "slide"
    }
   },
   "source": [
    "## VOTE 模型投票\n"
   ]
  },
  {
   "cell_type": "code",
   "execution_count": 33,
   "metadata": {},
   "outputs": [
    {
     "name": "stdout",
     "output_type": "stream",
     "text": [
      "Accuracy: 0.94 (+/- 0.00) [Logistic Regression]\n",
      "Accuracy: 0.94 (+/- 0.00) [Random Forest]\n",
      "Accuracy: 0.73 (+/- 0.00) [naive Bayes]\n",
      "Accuracy: 0.94 (+/- 0.00) [Ensemble]\n"
     ]
    }
   ],
   "source": [
    "from sklearn import datasets\n",
    "from sklearn.model_selection import cross_val_score\n",
    "from sklearn.linear_model import LogisticRegression\n",
    "from sklearn.naive_bayes import GaussianNB\n",
    "from sklearn.ensemble import RandomForestClassifier\n",
    "from sklearn.ensemble import VotingClassifier\n",
    "from sklearn.preprocessing import StandardScaler\n",
    "\n",
    "stdScaler = StandardScaler()\n",
    "X = stdScaler.fit_transform(train)\n",
    "y = target\n",
    "\n",
    "\n",
    "clf1 = LogisticRegression(solver=\"lbfgs\", multi_class=\"multinomial\", random_state=1)\n",
    "clf2 = RandomForestClassifier(n_estimators=50, random_state=1)\n",
    "clf3 = GaussianNB()\n",
    "\n",
    "eclf = VotingClassifier(\n",
    "    estimators=[(\"lr\", clf1), (\"rf\", clf2), (\"gnb\", clf3)], voting=\"hard\"\n",
    ")\n",
    "\n",
    "for clf, label in zip(\n",
    "    [clf1, clf2, clf3, eclf],\n",
    "    [\"Logistic Regression\", \"Random Forest\", \"naive Bayes\", \"Ensemble\"],\n",
    "):\n",
    "    scores = cross_val_score(clf, X, y, cv=5, scoring=\"accuracy\")\n",
    "    print(\"Accuracy: %0.2f (+/- %0.2f) [%s]\" % (scores.mean(), scores.std(), label))"
   ]
  },
  {
   "cell_type": "markdown",
   "metadata": {
    "slideshow": {
     "slide_type": "slide"
    }
   },
   "source": [
    "## lgb 模型\n"
   ]
  },
  {
   "cell_type": "code",
   "execution_count": 34,
   "metadata": {},
   "outputs": [
    {
     "name": "stdout",
     "output_type": "stream",
     "text": [
      "[LightGBM] [Warning] Unknown parameter: tree_method\n",
      "[LightGBM] [Warning] Unknown parameter: silent\n",
      "[LightGBM] [Warning] Unknown parameter: colsample_bylevel\n",
      "[LightGBM] [Warning] Unknown parameter: tree_method\n",
      "[LightGBM] [Warning] Unknown parameter: silent\n",
      "[LightGBM] [Warning] Unknown parameter: colsample_bylevel\n",
      "[LightGBM] [Info] Auto-choosing row-wise multi-threading, the overhead of testing was 0.025191 seconds.\n",
      "You can set `force_row_wise=true` to remove the overhead.\n",
      "And if memory is not enough, you can set `force_col_wise=true`.\n",
      "[LightGBM] [Info] Total Bins 30898\n",
      "[LightGBM] [Info] Number of data points in the train set: 156518, number of used features: 129\n",
      "[LightGBM] [Warning] Unknown parameter: tree_method\n",
      "[LightGBM] [Warning] Unknown parameter: silent\n",
      "[LightGBM] [Warning] Unknown parameter: colsample_bylevel\n",
      "[LightGBM] [Info] Start training from score -0.063045\n",
      "[LightGBM] [Info] Start training from score -2.795270\n"
     ]
    }
   ],
   "source": [
    "import lightgbm\n",
    "\n",
    "X_train, X_test, y_train, y_test = train_test_split(\n",
    "    train, target, test_size=0.4, random_state=0\n",
    ")\n",
    "X_test, X_valid, y_test, y_valid = train_test_split(\n",
    "    X_test, y_test, test_size=0.5, random_state=0\n",
    ")\n",
    "\n",
    "clf = lightgbm\n",
    "\n",
    "train_matrix = clf.Dataset(X_train, label=y_train)\n",
    "test_matrix = clf.Dataset(X_test, label=y_test)\n",
    "params = {\n",
    "    \"boosting_type\": \"gbdt\",\n",
    "    \"objective\": \"multiclass\",\n",
    "    \"metric\": \"multi_logloss\",\n",
    "    \"min_child_weight\": 1.5,\n",
    "    \"num_leaves\": 2**5,\n",
    "    \"lambda_l2\": 10,\n",
    "    \"subsample\": 0.7,\n",
    "    \"colsample_bytree\": 0.7,\n",
    "    \"learning_rate\": 0.03,\n",
    "    \"seed\": 2017,\n",
    "    \"num_class\": 2,\n",
    "}\n",
    "num_round = 10000\n",
    "early_stopping_rounds = 100\n",
    "model = clf.train(\n",
    "    params,\n",
    "    train_matrix,\n",
    "    num_round,\n",
    "    valid_sets=test_matrix,\n",
    "    # early_stopping_rounds=early_stopping_rounds,\n",
    ")\n",
    "pre = model.predict(X_valid, num_iteration=model.best_iteration)"
   ]
  },
  {
   "cell_type": "code",
   "execution_count": 35,
   "metadata": {},
   "outputs": [
    {
     "name": "stdout",
     "output_type": "stream",
     "text": [
      "score :  0.9377839112184463\n"
     ]
    }
   ],
   "source": [
    "print(\"score : \", np.mean((pre[:, 1] > 0.5) == y_valid))"
   ]
  },
  {
   "cell_type": "markdown",
   "metadata": {
    "slideshow": {
     "slide_type": "slide"
    }
   },
   "source": [
    "## xgb 模型\n"
   ]
  },
  {
   "cell_type": "code",
   "execution_count": 36,
   "metadata": {},
   "outputs": [
    {
     "name": "stdout",
     "output_type": "stream",
     "text": [
      "[0]\ttrain-mlogloss:0.67041\teval-mlogloss:0.67040\n",
      "[1]\ttrain-mlogloss:0.64898\teval-mlogloss:0.64893\n",
      "[2]\ttrain-mlogloss:0.62876\teval-mlogloss:0.62870\n",
      "[3]\ttrain-mlogloss:0.60971\teval-mlogloss:0.60962\n",
      "[4]\ttrain-mlogloss:0.59165\teval-mlogloss:0.59155\n",
      "[5]\ttrain-mlogloss:0.57460\teval-mlogloss:0.57448\n",
      "[6]\ttrain-mlogloss:0.55844\teval-mlogloss:0.55830\n",
      "[7]\ttrain-mlogloss:0.54311\teval-mlogloss:0.54295\n",
      "[8]\ttrain-mlogloss:0.52857\teval-mlogloss:0.52839\n",
      "[9]\ttrain-mlogloss:0.51478\teval-mlogloss:0.51458\n",
      "[10]\ttrain-mlogloss:0.50166\teval-mlogloss:0.50146\n",
      "[11]\ttrain-mlogloss:0.48920\teval-mlogloss:0.48897\n",
      "[12]\ttrain-mlogloss:0.47736\teval-mlogloss:0.47711\n",
      "[13]\ttrain-mlogloss:0.46605\teval-mlogloss:0.46580\n",
      "[14]\ttrain-mlogloss:0.45530\teval-mlogloss:0.45503\n",
      "[15]\ttrain-mlogloss:0.44504\teval-mlogloss:0.44475\n",
      "[16]\ttrain-mlogloss:0.43528\teval-mlogloss:0.43499\n",
      "[17]\ttrain-mlogloss:0.42598\teval-mlogloss:0.42567\n",
      "[18]\ttrain-mlogloss:0.41711\teval-mlogloss:0.41679\n",
      "[19]\ttrain-mlogloss:0.40862\teval-mlogloss:0.40829\n",
      "[20]\ttrain-mlogloss:0.40053\teval-mlogloss:0.40019\n",
      "[21]\ttrain-mlogloss:0.39280\teval-mlogloss:0.39244\n",
      "[22]\ttrain-mlogloss:0.38541\teval-mlogloss:0.38503\n",
      "[23]\ttrain-mlogloss:0.37836\teval-mlogloss:0.37797\n",
      "[24]\ttrain-mlogloss:0.37163\teval-mlogloss:0.37123\n",
      "[25]\ttrain-mlogloss:0.36518\teval-mlogloss:0.36477\n",
      "[26]\ttrain-mlogloss:0.35905\teval-mlogloss:0.35863\n",
      "[27]\ttrain-mlogloss:0.35314\teval-mlogloss:0.35271\n",
      "[28]\ttrain-mlogloss:0.34751\teval-mlogloss:0.34706\n",
      "[29]\ttrain-mlogloss:0.34212\teval-mlogloss:0.34167\n",
      "[30]\ttrain-mlogloss:0.33696\teval-mlogloss:0.33650\n",
      "[31]\ttrain-mlogloss:0.33201\teval-mlogloss:0.33154\n",
      "[32]\ttrain-mlogloss:0.32728\teval-mlogloss:0.32681\n",
      "[33]\ttrain-mlogloss:0.32276\teval-mlogloss:0.32228\n",
      "[34]\ttrain-mlogloss:0.31845\teval-mlogloss:0.31796\n",
      "[35]\ttrain-mlogloss:0.31431\teval-mlogloss:0.31381\n",
      "[36]\ttrain-mlogloss:0.31035\teval-mlogloss:0.30984\n",
      "[37]\ttrain-mlogloss:0.30655\teval-mlogloss:0.30604\n",
      "[38]\ttrain-mlogloss:0.30292\teval-mlogloss:0.30240\n",
      "[39]\ttrain-mlogloss:0.29946\teval-mlogloss:0.29894\n",
      "[40]\ttrain-mlogloss:0.29612\teval-mlogloss:0.29559\n",
      "[41]\ttrain-mlogloss:0.29293\teval-mlogloss:0.29240\n",
      "[42]\ttrain-mlogloss:0.28987\teval-mlogloss:0.28933\n",
      "[43]\ttrain-mlogloss:0.28695\teval-mlogloss:0.28641\n",
      "[44]\ttrain-mlogloss:0.28414\teval-mlogloss:0.28359\n",
      "[45]\ttrain-mlogloss:0.28148\teval-mlogloss:0.28092\n",
      "[46]\ttrain-mlogloss:0.27891\teval-mlogloss:0.27835\n",
      "[47]\ttrain-mlogloss:0.27645\teval-mlogloss:0.27589\n",
      "[48]\ttrain-mlogloss:0.27414\teval-mlogloss:0.27357\n",
      "[49]\ttrain-mlogloss:0.27187\teval-mlogloss:0.27130\n",
      "[50]\ttrain-mlogloss:0.26971\teval-mlogloss:0.26914\n",
      "[51]\ttrain-mlogloss:0.26763\teval-mlogloss:0.26706\n",
      "[52]\ttrain-mlogloss:0.26566\teval-mlogloss:0.26509\n",
      "[53]\ttrain-mlogloss:0.26377\teval-mlogloss:0.26320\n",
      "[54]\ttrain-mlogloss:0.26196\teval-mlogloss:0.26138\n",
      "[55]\ttrain-mlogloss:0.26024\teval-mlogloss:0.25966\n",
      "[56]\ttrain-mlogloss:0.25858\teval-mlogloss:0.25799\n",
      "[57]\ttrain-mlogloss:0.25699\teval-mlogloss:0.25640\n",
      "[58]\ttrain-mlogloss:0.25547\teval-mlogloss:0.25488\n",
      "[59]\ttrain-mlogloss:0.25404\teval-mlogloss:0.25345\n",
      "[60]\ttrain-mlogloss:0.25265\teval-mlogloss:0.25206\n",
      "[61]\ttrain-mlogloss:0.25133\teval-mlogloss:0.25074\n",
      "[62]\ttrain-mlogloss:0.25007\teval-mlogloss:0.24947\n",
      "[63]\ttrain-mlogloss:0.24887\teval-mlogloss:0.24828\n",
      "[64]\ttrain-mlogloss:0.24771\teval-mlogloss:0.24711\n",
      "[65]\ttrain-mlogloss:0.24659\teval-mlogloss:0.24599\n",
      "[66]\ttrain-mlogloss:0.24553\teval-mlogloss:0.24493\n",
      "[67]\ttrain-mlogloss:0.24451\teval-mlogloss:0.24391\n",
      "[68]\ttrain-mlogloss:0.24355\teval-mlogloss:0.24295\n",
      "[69]\ttrain-mlogloss:0.24262\teval-mlogloss:0.24202\n",
      "[70]\ttrain-mlogloss:0.24173\teval-mlogloss:0.24114\n",
      "[71]\ttrain-mlogloss:0.24087\teval-mlogloss:0.24028\n",
      "[72]\ttrain-mlogloss:0.24005\teval-mlogloss:0.23947\n",
      "[73]\ttrain-mlogloss:0.23927\teval-mlogloss:0.23869\n",
      "[74]\ttrain-mlogloss:0.23853\teval-mlogloss:0.23796\n",
      "[75]\ttrain-mlogloss:0.23783\teval-mlogloss:0.23725\n",
      "[76]\ttrain-mlogloss:0.23714\teval-mlogloss:0.23657\n",
      "[77]\ttrain-mlogloss:0.23649\teval-mlogloss:0.23592\n",
      "[78]\ttrain-mlogloss:0.23587\teval-mlogloss:0.23530\n",
      "[79]\ttrain-mlogloss:0.23528\teval-mlogloss:0.23472\n",
      "[80]\ttrain-mlogloss:0.23471\teval-mlogloss:0.23416\n",
      "[81]\ttrain-mlogloss:0.23416\teval-mlogloss:0.23361\n",
      "[82]\ttrain-mlogloss:0.23368\teval-mlogloss:0.23314\n",
      "[83]\ttrain-mlogloss:0.23318\teval-mlogloss:0.23265\n",
      "[84]\ttrain-mlogloss:0.23271\teval-mlogloss:0.23218\n",
      "[85]\ttrain-mlogloss:0.23226\teval-mlogloss:0.23174\n",
      "[86]\ttrain-mlogloss:0.23183\teval-mlogloss:0.23131\n",
      "[87]\ttrain-mlogloss:0.23141\teval-mlogloss:0.23089\n",
      "[88]\ttrain-mlogloss:0.23102\teval-mlogloss:0.23051\n",
      "[89]\ttrain-mlogloss:0.23064\teval-mlogloss:0.23014\n",
      "[90]\ttrain-mlogloss:0.23029\teval-mlogloss:0.22979\n",
      "[91]\ttrain-mlogloss:0.22994\teval-mlogloss:0.22945\n",
      "[92]\ttrain-mlogloss:0.22963\teval-mlogloss:0.22914\n",
      "[93]\ttrain-mlogloss:0.22931\teval-mlogloss:0.22883\n",
      "[94]\ttrain-mlogloss:0.22902\teval-mlogloss:0.22854\n",
      "[95]\ttrain-mlogloss:0.22873\teval-mlogloss:0.22826\n",
      "[96]\ttrain-mlogloss:0.22846\teval-mlogloss:0.22799\n",
      "[97]\ttrain-mlogloss:0.22820\teval-mlogloss:0.22774\n",
      "[98]\ttrain-mlogloss:0.22796\teval-mlogloss:0.22751\n",
      "[99]\ttrain-mlogloss:0.22772\teval-mlogloss:0.22728\n",
      "[100]\ttrain-mlogloss:0.22750\teval-mlogloss:0.22707\n",
      "[101]\ttrain-mlogloss:0.22729\teval-mlogloss:0.22687\n",
      "[102]\ttrain-mlogloss:0.22709\teval-mlogloss:0.22668\n",
      "[103]\ttrain-mlogloss:0.22690\teval-mlogloss:0.22651\n",
      "[104]\ttrain-mlogloss:0.22671\teval-mlogloss:0.22633\n",
      "[105]\ttrain-mlogloss:0.22654\teval-mlogloss:0.22617\n",
      "[106]\ttrain-mlogloss:0.22638\teval-mlogloss:0.22602\n",
      "[107]\ttrain-mlogloss:0.22621\teval-mlogloss:0.22586\n",
      "[108]\ttrain-mlogloss:0.22605\teval-mlogloss:0.22572\n",
      "[109]\ttrain-mlogloss:0.22590\teval-mlogloss:0.22558\n",
      "[110]\ttrain-mlogloss:0.22575\teval-mlogloss:0.22545\n",
      "[111]\ttrain-mlogloss:0.22561\teval-mlogloss:0.22532\n",
      "[112]\ttrain-mlogloss:0.22548\teval-mlogloss:0.22520\n",
      "[113]\ttrain-mlogloss:0.22535\teval-mlogloss:0.22508\n",
      "[114]\ttrain-mlogloss:0.22523\teval-mlogloss:0.22497\n",
      "[115]\ttrain-mlogloss:0.22511\teval-mlogloss:0.22486\n",
      "[116]\ttrain-mlogloss:0.22500\teval-mlogloss:0.22476\n",
      "[117]\ttrain-mlogloss:0.22490\teval-mlogloss:0.22468\n",
      "[118]\ttrain-mlogloss:0.22479\teval-mlogloss:0.22459\n",
      "[119]\ttrain-mlogloss:0.22470\teval-mlogloss:0.22451\n",
      "[120]\ttrain-mlogloss:0.22460\teval-mlogloss:0.22443\n",
      "[121]\ttrain-mlogloss:0.22451\teval-mlogloss:0.22435\n",
      "[122]\ttrain-mlogloss:0.22443\teval-mlogloss:0.22428\n",
      "[123]\ttrain-mlogloss:0.22434\teval-mlogloss:0.22421\n",
      "[124]\ttrain-mlogloss:0.22426\teval-mlogloss:0.22415\n",
      "[125]\ttrain-mlogloss:0.22419\teval-mlogloss:0.22408\n",
      "[126]\ttrain-mlogloss:0.22412\teval-mlogloss:0.22402\n",
      "[127]\ttrain-mlogloss:0.22405\teval-mlogloss:0.22397\n",
      "[128]\ttrain-mlogloss:0.22398\teval-mlogloss:0.22391\n",
      "[129]\ttrain-mlogloss:0.22392\teval-mlogloss:0.22386\n",
      "[130]\ttrain-mlogloss:0.22385\teval-mlogloss:0.22381\n",
      "[131]\ttrain-mlogloss:0.22379\teval-mlogloss:0.22377\n",
      "[132]\ttrain-mlogloss:0.22373\teval-mlogloss:0.22372\n",
      "[133]\ttrain-mlogloss:0.22368\teval-mlogloss:0.22368\n",
      "[134]\ttrain-mlogloss:0.22363\teval-mlogloss:0.22364\n",
      "[135]\ttrain-mlogloss:0.22358\teval-mlogloss:0.22360\n",
      "[136]\ttrain-mlogloss:0.22353\teval-mlogloss:0.22356\n",
      "[137]\ttrain-mlogloss:0.22348\teval-mlogloss:0.22353\n",
      "[138]\ttrain-mlogloss:0.22344\teval-mlogloss:0.22350\n",
      "[139]\ttrain-mlogloss:0.22339\teval-mlogloss:0.22347\n",
      "[140]\ttrain-mlogloss:0.22335\teval-mlogloss:0.22344\n",
      "[141]\ttrain-mlogloss:0.22331\teval-mlogloss:0.22342\n",
      "[142]\ttrain-mlogloss:0.22327\teval-mlogloss:0.22339\n",
      "[143]\ttrain-mlogloss:0.22323\teval-mlogloss:0.22337\n",
      "[144]\ttrain-mlogloss:0.22319\teval-mlogloss:0.22334\n",
      "[145]\ttrain-mlogloss:0.22316\teval-mlogloss:0.22332\n",
      "[146]\ttrain-mlogloss:0.22312\teval-mlogloss:0.22330\n",
      "[147]\ttrain-mlogloss:0.22309\teval-mlogloss:0.22329\n",
      "[148]\ttrain-mlogloss:0.22306\teval-mlogloss:0.22327\n",
      "[149]\ttrain-mlogloss:0.22303\teval-mlogloss:0.22326\n",
      "[150]\ttrain-mlogloss:0.22300\teval-mlogloss:0.22324\n",
      "[151]\ttrain-mlogloss:0.22297\teval-mlogloss:0.22322\n",
      "[152]\ttrain-mlogloss:0.22294\teval-mlogloss:0.22321\n",
      "[153]\ttrain-mlogloss:0.22291\teval-mlogloss:0.22320\n",
      "[154]\ttrain-mlogloss:0.22288\teval-mlogloss:0.22319\n",
      "[155]\ttrain-mlogloss:0.22285\teval-mlogloss:0.22318\n",
      "[156]\ttrain-mlogloss:0.22283\teval-mlogloss:0.22316\n",
      "[157]\ttrain-mlogloss:0.22279\teval-mlogloss:0.22315\n",
      "[158]\ttrain-mlogloss:0.22277\teval-mlogloss:0.22315\n",
      "[159]\ttrain-mlogloss:0.22275\teval-mlogloss:0.22314\n",
      "[160]\ttrain-mlogloss:0.22273\teval-mlogloss:0.22313\n",
      "[161]\ttrain-mlogloss:0.22270\teval-mlogloss:0.22312\n",
      "[162]\ttrain-mlogloss:0.22269\teval-mlogloss:0.22311\n",
      "[163]\ttrain-mlogloss:0.22266\teval-mlogloss:0.22311\n",
      "[164]\ttrain-mlogloss:0.22264\teval-mlogloss:0.22310\n",
      "[165]\ttrain-mlogloss:0.22262\teval-mlogloss:0.22309\n",
      "[166]\ttrain-mlogloss:0.22259\teval-mlogloss:0.22309\n",
      "[167]\ttrain-mlogloss:0.22257\teval-mlogloss:0.22308\n",
      "[168]\ttrain-mlogloss:0.22255\teval-mlogloss:0.22307\n",
      "[169]\ttrain-mlogloss:0.22253\teval-mlogloss:0.22307\n",
      "[170]\ttrain-mlogloss:0.22251\teval-mlogloss:0.22306\n",
      "[171]\ttrain-mlogloss:0.22249\teval-mlogloss:0.22306\n",
      "[172]\ttrain-mlogloss:0.22247\teval-mlogloss:0.22305\n",
      "[173]\ttrain-mlogloss:0.22245\teval-mlogloss:0.22305\n",
      "[174]\ttrain-mlogloss:0.22243\teval-mlogloss:0.22304\n",
      "[175]\ttrain-mlogloss:0.22242\teval-mlogloss:0.22304\n",
      "[176]\ttrain-mlogloss:0.22240\teval-mlogloss:0.22304\n",
      "[177]\ttrain-mlogloss:0.22239\teval-mlogloss:0.22303\n",
      "[178]\ttrain-mlogloss:0.22237\teval-mlogloss:0.22303\n",
      "[179]\ttrain-mlogloss:0.22235\teval-mlogloss:0.22302\n",
      "[180]\ttrain-mlogloss:0.22234\teval-mlogloss:0.22302\n",
      "[181]\ttrain-mlogloss:0.22232\teval-mlogloss:0.22301\n",
      "[182]\ttrain-mlogloss:0.22231\teval-mlogloss:0.22301\n",
      "[183]\ttrain-mlogloss:0.22228\teval-mlogloss:0.22301\n",
      "[184]\ttrain-mlogloss:0.22227\teval-mlogloss:0.22301\n",
      "[185]\ttrain-mlogloss:0.22225\teval-mlogloss:0.22301\n",
      "[186]\ttrain-mlogloss:0.22223\teval-mlogloss:0.22301\n",
      "[187]\ttrain-mlogloss:0.22221\teval-mlogloss:0.22301\n",
      "[188]\ttrain-mlogloss:0.22220\teval-mlogloss:0.22301\n",
      "[189]\ttrain-mlogloss:0.22218\teval-mlogloss:0.22301\n",
      "[190]\ttrain-mlogloss:0.22217\teval-mlogloss:0.22301\n",
      "[191]\ttrain-mlogloss:0.22215\teval-mlogloss:0.22301\n",
      "[192]\ttrain-mlogloss:0.22214\teval-mlogloss:0.22300\n",
      "[193]\ttrain-mlogloss:0.22213\teval-mlogloss:0.22301\n",
      "[194]\ttrain-mlogloss:0.22211\teval-mlogloss:0.22301\n",
      "[195]\ttrain-mlogloss:0.22210\teval-mlogloss:0.22301\n",
      "[196]\ttrain-mlogloss:0.22208\teval-mlogloss:0.22301\n",
      "[197]\ttrain-mlogloss:0.22207\teval-mlogloss:0.22301\n",
      "[198]\ttrain-mlogloss:0.22205\teval-mlogloss:0.22301\n",
      "[199]\ttrain-mlogloss:0.22204\teval-mlogloss:0.22301\n",
      "[200]\ttrain-mlogloss:0.22203\teval-mlogloss:0.22302\n",
      "[201]\ttrain-mlogloss:0.22201\teval-mlogloss:0.22302\n",
      "[202]\ttrain-mlogloss:0.22199\teval-mlogloss:0.22302\n",
      "[203]\ttrain-mlogloss:0.22198\teval-mlogloss:0.22302\n",
      "[204]\ttrain-mlogloss:0.22197\teval-mlogloss:0.22302\n",
      "[205]\ttrain-mlogloss:0.22195\teval-mlogloss:0.22302\n",
      "[206]\ttrain-mlogloss:0.22194\teval-mlogloss:0.22302\n",
      "[207]\ttrain-mlogloss:0.22193\teval-mlogloss:0.22302\n",
      "[208]\ttrain-mlogloss:0.22191\teval-mlogloss:0.22302\n",
      "[209]\ttrain-mlogloss:0.22190\teval-mlogloss:0.22302\n",
      "[210]\ttrain-mlogloss:0.22188\teval-mlogloss:0.22303\n",
      "[211]\ttrain-mlogloss:0.22186\teval-mlogloss:0.22302\n",
      "[212]\ttrain-mlogloss:0.22185\teval-mlogloss:0.22302\n",
      "[213]\ttrain-mlogloss:0.22183\teval-mlogloss:0.22302\n",
      "[214]\ttrain-mlogloss:0.22182\teval-mlogloss:0.22302\n",
      "[215]\ttrain-mlogloss:0.22181\teval-mlogloss:0.22303\n",
      "[216]\ttrain-mlogloss:0.22179\teval-mlogloss:0.22303\n",
      "[217]\ttrain-mlogloss:0.22178\teval-mlogloss:0.22303\n",
      "[218]\ttrain-mlogloss:0.22176\teval-mlogloss:0.22303\n",
      "[219]\ttrain-mlogloss:0.22175\teval-mlogloss:0.22303\n",
      "[220]\ttrain-mlogloss:0.22174\teval-mlogloss:0.22303\n",
      "[221]\ttrain-mlogloss:0.22173\teval-mlogloss:0.22303\n",
      "[222]\ttrain-mlogloss:0.22172\teval-mlogloss:0.22304\n",
      "[223]\ttrain-mlogloss:0.22170\teval-mlogloss:0.22304\n",
      "[224]\ttrain-mlogloss:0.22169\teval-mlogloss:0.22305\n",
      "[225]\ttrain-mlogloss:0.22168\teval-mlogloss:0.22305\n",
      "[226]\ttrain-mlogloss:0.22167\teval-mlogloss:0.22305\n",
      "[227]\ttrain-mlogloss:0.22166\teval-mlogloss:0.22306\n",
      "[228]\ttrain-mlogloss:0.22164\teval-mlogloss:0.22306\n",
      "[229]\ttrain-mlogloss:0.22163\teval-mlogloss:0.22307\n",
      "[230]\ttrain-mlogloss:0.22162\teval-mlogloss:0.22307\n",
      "[231]\ttrain-mlogloss:0.22161\teval-mlogloss:0.22307\n",
      "[232]\ttrain-mlogloss:0.22159\teval-mlogloss:0.22307\n",
      "[233]\ttrain-mlogloss:0.22158\teval-mlogloss:0.22308\n",
      "[234]\ttrain-mlogloss:0.22157\teval-mlogloss:0.22308\n",
      "[235]\ttrain-mlogloss:0.22156\teval-mlogloss:0.22308\n",
      "[236]\ttrain-mlogloss:0.22154\teval-mlogloss:0.22309\n",
      "[237]\ttrain-mlogloss:0.22153\teval-mlogloss:0.22309\n",
      "[238]\ttrain-mlogloss:0.22151\teval-mlogloss:0.22309\n",
      "[239]\ttrain-mlogloss:0.22150\teval-mlogloss:0.22310\n",
      "[240]\ttrain-mlogloss:0.22149\teval-mlogloss:0.22310\n",
      "[241]\ttrain-mlogloss:0.22147\teval-mlogloss:0.22310\n",
      "[242]\ttrain-mlogloss:0.22145\teval-mlogloss:0.22310\n",
      "[243]\ttrain-mlogloss:0.22144\teval-mlogloss:0.22311\n",
      "[244]\ttrain-mlogloss:0.22142\teval-mlogloss:0.22311\n",
      "[245]\ttrain-mlogloss:0.22141\teval-mlogloss:0.22311\n",
      "[246]\ttrain-mlogloss:0.22140\teval-mlogloss:0.22311\n",
      "[247]\ttrain-mlogloss:0.22139\teval-mlogloss:0.22311\n",
      "[248]\ttrain-mlogloss:0.22138\teval-mlogloss:0.22311\n",
      "[249]\ttrain-mlogloss:0.22137\teval-mlogloss:0.22311\n",
      "[250]\ttrain-mlogloss:0.22136\teval-mlogloss:0.22312\n",
      "[251]\ttrain-mlogloss:0.22134\teval-mlogloss:0.22312\n",
      "[252]\ttrain-mlogloss:0.22133\teval-mlogloss:0.22312\n",
      "[253]\ttrain-mlogloss:0.22132\teval-mlogloss:0.22312\n",
      "[254]\ttrain-mlogloss:0.22131\teval-mlogloss:0.22313\n",
      "[255]\ttrain-mlogloss:0.22130\teval-mlogloss:0.22313\n",
      "[256]\ttrain-mlogloss:0.22129\teval-mlogloss:0.22313\n",
      "[257]\ttrain-mlogloss:0.22128\teval-mlogloss:0.22314\n",
      "[258]\ttrain-mlogloss:0.22126\teval-mlogloss:0.22314\n",
      "[259]\ttrain-mlogloss:0.22125\teval-mlogloss:0.22314\n",
      "[260]\ttrain-mlogloss:0.22124\teval-mlogloss:0.22314\n",
      "[261]\ttrain-mlogloss:0.22123\teval-mlogloss:0.22315\n",
      "[262]\ttrain-mlogloss:0.22121\teval-mlogloss:0.22315\n",
      "[263]\ttrain-mlogloss:0.22120\teval-mlogloss:0.22314\n",
      "[264]\ttrain-mlogloss:0.22119\teval-mlogloss:0.22315\n",
      "[265]\ttrain-mlogloss:0.22118\teval-mlogloss:0.22315\n",
      "[266]\ttrain-mlogloss:0.22117\teval-mlogloss:0.22315\n",
      "[267]\ttrain-mlogloss:0.22116\teval-mlogloss:0.22316\n",
      "[268]\ttrain-mlogloss:0.22115\teval-mlogloss:0.22316\n",
      "[269]\ttrain-mlogloss:0.22113\teval-mlogloss:0.22317\n",
      "[270]\ttrain-mlogloss:0.22112\teval-mlogloss:0.22317\n",
      "[271]\ttrain-mlogloss:0.22111\teval-mlogloss:0.22317\n",
      "[272]\ttrain-mlogloss:0.22110\teval-mlogloss:0.22318\n",
      "[273]\ttrain-mlogloss:0.22109\teval-mlogloss:0.22318\n",
      "[274]\ttrain-mlogloss:0.22108\teval-mlogloss:0.22318\n",
      "[275]\ttrain-mlogloss:0.22107\teval-mlogloss:0.22319\n",
      "[276]\ttrain-mlogloss:0.22106\teval-mlogloss:0.22319\n",
      "[277]\ttrain-mlogloss:0.22104\teval-mlogloss:0.22319\n",
      "[278]\ttrain-mlogloss:0.22104\teval-mlogloss:0.22319\n",
      "[279]\ttrain-mlogloss:0.22102\teval-mlogloss:0.22319\n",
      "[280]\ttrain-mlogloss:0.22101\teval-mlogloss:0.22319\n",
      "[281]\ttrain-mlogloss:0.22100\teval-mlogloss:0.22320\n",
      "[282]\ttrain-mlogloss:0.22099\teval-mlogloss:0.22321\n",
      "[283]\ttrain-mlogloss:0.22098\teval-mlogloss:0.22321\n",
      "[284]\ttrain-mlogloss:0.22096\teval-mlogloss:0.22321\n",
      "[285]\ttrain-mlogloss:0.22094\teval-mlogloss:0.22322\n",
      "[286]\ttrain-mlogloss:0.22093\teval-mlogloss:0.22322\n",
      "[287]\ttrain-mlogloss:0.22092\teval-mlogloss:0.22322\n",
      "[288]\ttrain-mlogloss:0.22091\teval-mlogloss:0.22322\n",
      "[289]\ttrain-mlogloss:0.22090\teval-mlogloss:0.22322\n",
      "[290]\ttrain-mlogloss:0.22088\teval-mlogloss:0.22323\n",
      "[291]\ttrain-mlogloss:0.22087\teval-mlogloss:0.22323\n",
      "[292]\ttrain-mlogloss:0.22086\teval-mlogloss:0.22323\n"
     ]
    }
   ],
   "source": [
    "import xgboost\n",
    "\n",
    "X_train, X_test, y_train, y_test = train_test_split(\n",
    "    train, target, test_size=0.4, random_state=0\n",
    ")\n",
    "X_test, X_valid, y_test, y_valid = train_test_split(\n",
    "    X_test, y_test, test_size=0.5, random_state=0\n",
    ")\n",
    "\n",
    "clf = xgboost\n",
    "\n",
    "train_matrix = clf.DMatrix(X_train, label=y_train, missing=-1)\n",
    "test_matrix = clf.DMatrix(X_test, label=y_test, missing=-1)\n",
    "z = clf.DMatrix(X_valid, label=y_valid, missing=-1)\n",
    "params = {\n",
    "    \"booster\": \"gbtree\",\n",
    "    \"objective\": \"multi:softprob\",\n",
    "    \"eval_metric\": \"mlogloss\",\n",
    "    \"gamma\": 1,\n",
    "    \"min_child_weight\": 1.5,\n",
    "    \"max_depth\": 5,\n",
    "    \"lambda\": 100,\n",
    "    \"subsample\": 0.7,\n",
    "    \"colsample_bytree\": 0.7,\n",
    "    \"colsample_bylevel\": 0.7,\n",
    "    \"eta\": 0.03,\n",
    "    \"tree_method\": \"exact\",\n",
    "    \"seed\": 2017,\n",
    "    \"num_class\": 2,\n",
    "}\n",
    "\n",
    "num_round = 10000\n",
    "early_stopping_rounds = 100\n",
    "watchlist = [(train_matrix, \"train\"), (test_matrix, \"eval\")]\n",
    "\n",
    "model = clf.train(\n",
    "    params,\n",
    "    train_matrix,\n",
    "    num_boost_round=num_round,\n",
    "    evals=watchlist,\n",
    "    early_stopping_rounds=early_stopping_rounds,\n",
    ")\n",
    "pre = model.predict(z)"
   ]
  },
  {
   "cell_type": "code",
   "execution_count": 37,
   "metadata": {},
   "outputs": [
    {
     "name": "stdout",
     "output_type": "stream",
     "text": [
      "score :  0.9382055852644088\n"
     ]
    }
   ],
   "source": [
    "print(\"score : \", np.mean((pre[:, 1] > 0.3) == y_valid))"
   ]
  },
  {
   "cell_type": "markdown",
   "metadata": {
    "slideshow": {
     "slide_type": "slide"
    }
   },
   "source": [
    "# 自己封装模型\n"
   ]
  },
  {
   "cell_type": "markdown",
   "metadata": {
    "slideshow": {
     "slide_type": "slide"
    }
   },
   "source": [
    "## Stacking,Bootstrap,Bagging 技术实践\n"
   ]
  },
  {
   "cell_type": "code",
   "execution_count": 4,
   "metadata": {
    "slideshow": {
     "slide_type": "skip"
    }
   },
   "outputs": [],
   "source": [
    "import pandas as pd\n",
    "import numpy as np\n",
    "import lightgbm as lgb\n",
    "from sklearn.metrics import f1_score\n",
    "from sklearn.model_selection import train_test_split\n",
    "from sklearn.model_selection import KFold\n",
    "from sklearn.model_selection import StratifiedKFold"
   ]
  },
  {
   "cell_type": "code",
   "execution_count": 5,
   "metadata": {},
   "outputs": [],
   "source": [
    "class SBBTree:\n",
    "    \"\"\"\n",
    "    SBBTree\n",
    "    Stacking, Bootstap, Bagging\n",
    "    \"\"\"\n",
    "\n",
    "    def __init__(\n",
    "        self,\n",
    "        params,\n",
    "        stacking_num,\n",
    "        bagging_num,\n",
    "        bagging_test_size,\n",
    "        num_boost_round,\n",
    "        early_stopping_rounds,\n",
    "    ):\n",
    "        \"\"\"\n",
    "        Initializes the SBBTree.\n",
    "        Args:\n",
    "          params : lgb params.\n",
    "          stacking_num : k_flod stacking.\n",
    "          bagging_num : bootstrap num.\n",
    "          bagging_test_size : bootstrap sample rate.\n",
    "          num_boost_round : boost num.\n",
    "          early_stopping_rounds : early_stopping_rounds.\n",
    "        \"\"\"\n",
    "        self.params = params\n",
    "        self.stacking_num = stacking_num\n",
    "        self.bagging_num = bagging_num\n",
    "        self.bagging_test_size = bagging_test_size\n",
    "        self.num_boost_round = num_boost_round\n",
    "        self.early_stopping_rounds = early_stopping_rounds\n",
    "\n",
    "        self.model = lgb\n",
    "        self.stacking_model = []\n",
    "        self.bagging_model = []\n",
    "\n",
    "    def fit(self, X, y):\n",
    "        \"\"\"fit model.\"\"\"\n",
    "        if self.stacking_num > 1:\n",
    "            layer_train = np.zeros((X.shape[0], 2))\n",
    "            self.SK = StratifiedKFold(\n",
    "                n_splits=self.stacking_num, shuffle=True, random_state=1\n",
    "            )\n",
    "            for k, (train_index, test_index) in enumerate(self.SK.split(X, y)):\n",
    "                X_train = X[train_index]\n",
    "                y_train = y[train_index]\n",
    "                X_test = X[test_index]\n",
    "                y_test = y[test_index]\n",
    "\n",
    "                lgb_train = lgb.Dataset(X_train, y_train)\n",
    "                lgb_eval = lgb.Dataset(X_test, y_test, reference=lgb_train)\n",
    "\n",
    "                gbm = lgb.train(\n",
    "                    self.params,\n",
    "                    lgb_train,\n",
    "                    num_boost_round=self.num_boost_round,\n",
    "                    valid_sets=lgb_eval,\n",
    "                    # early_stopping_rounds=self.early_stopping_rounds,\n",
    "                )\n",
    "\n",
    "                self.stacking_model.append(gbm)\n",
    "\n",
    "                pred_y = gbm.predict(X_test, num_iteration=gbm.best_iteration)\n",
    "                layer_train[test_index, 1] = pred_y\n",
    "\n",
    "            X = np.hstack((X, layer_train[:, 1].reshape((-1, 1))))\n",
    "\n",
    "        for bn in range(self.bagging_num):\n",
    "            X_train, X_test, y_train, y_test = train_test_split(\n",
    "                X, y, test_size=self.bagging_test_size, random_state=bn\n",
    "            )\n",
    "\n",
    "            lgb_train = lgb.Dataset(X_train, y_train)\n",
    "            lgb_eval = lgb.Dataset(X_test, y_test, reference=lgb_train)\n",
    "\n",
    "            gbm = lgb.train(\n",
    "                self.params,\n",
    "                lgb_train,\n",
    "                num_boost_round=10000,\n",
    "                valid_sets=lgb_eval,\n",
    "                # early_stopping_rounds=200,\n",
    "            )\n",
    "\n",
    "            self.bagging_model.append(gbm)\n",
    "\n",
    "    def predict(self, X_pred):\n",
    "        \"\"\"predict test data.\"\"\"\n",
    "        if self.stacking_num > 1:\n",
    "            test_pred = np.zeros((X_pred.shape[0], self.stacking_num))\n",
    "            for sn, gbm in enumerate(self.stacking_model):\n",
    "                pred = gbm.predict(X_pred, num_iteration=gbm.best_iteration)\n",
    "                test_pred[:, sn] = pred\n",
    "            X_pred = np.hstack((X_pred, test_pred.mean(axis=1).reshape((-1, 1))))\n",
    "        else:\n",
    "            pass\n",
    "        for bn, gbm in enumerate(self.bagging_model):\n",
    "            pred = gbm.predict(X_pred, num_iteration=gbm.best_iteration)\n",
    "            if bn == 0:\n",
    "                pred_out = pred\n",
    "            else:\n",
    "                pred_out += pred\n",
    "        return pred_out / self.bagging_num"
   ]
  },
  {
   "cell_type": "markdown",
   "metadata": {
    "slideshow": {
     "slide_type": "slide"
    }
   },
   "source": [
    "## 测试自己封装的模型类\n"
   ]
  },
  {
   "cell_type": "code",
   "execution_count": 12,
   "metadata": {},
   "outputs": [
    {
     "name": "stdout",
     "output_type": "stream",
     "text": [
      "auc:  0.703740483283681\n",
      "auc:  0.7492736032954503\n",
      "auc:  0.7494575011953364\n",
      "auc:  0.7827798006546766\n"
     ]
    }
   ],
   "source": [
    "\"\"\"\n",
    "    TEST CODE\n",
    "\"\"\"\n",
    "\n",
    "from sklearn.datasets import make_classification\n",
    "from sklearn.datasets import load_breast_cancer\n",
    "from sklearn.datasets import make_gaussian_quantiles\n",
    "from sklearn import metrics\n",
    "from sklearn.metrics import f1_score\n",
    "\n",
    "# X, y = make_classification(n_samples=1000, n_features=25, n_clusters_per_class=1, n_informative=15, random_state=1)\n",
    "X, y = make_gaussian_quantiles(\n",
    "    mean=None,\n",
    "    cov=1.0,\n",
    "    n_samples=1000,\n",
    "    n_features=50,\n",
    "    n_classes=2,\n",
    "    shuffle=True,\n",
    "    random_state=2,\n",
    ")\n",
    "# data = load_breast_cancer()\n",
    "# X, y = data.data, data.target\n",
    "X_train, X_test, y_train, y_test = train_test_split(\n",
    "    X, y, test_size=0.33, random_state=1\n",
    ")\n",
    "params = {\n",
    "    \"task\": \"train\",\n",
    "    \"boosting_type\": \"gbdt\",\n",
    "    \"objective\": \"binary\",\n",
    "    \"metric\": \"auc\",\n",
    "    \"num_leaves\": 9,\n",
    "    \"learning_rate\": 0.03,\n",
    "    \"feature_fraction_seed\": 2,\n",
    "    \"feature_fraction\": 0.9,\n",
    "    \"bagging_fraction\": 0.8,\n",
    "    \"bagging_freq\": 5,\n",
    "    \"min_data\": 20,\n",
    "    \"min_hessian\": 1,\n",
    "    \"verbose\": -1,\n",
    "    \"silent\": 0,\n",
    "}\n",
    "# test 1\n",
    "model = SBBTree(\n",
    "    params,\n",
    "    stacking_num=1,\n",
    "    bagging_num=1,\n",
    "    bagging_test_size=0.33,\n",
    "    num_boost_round=10000,\n",
    "    early_stopping_rounds=200,\n",
    ")\n",
    "model.fit(X_train, y_train)\n",
    "pred1 = model.predict(X_test)\n",
    "\n",
    "# test 2\n",
    "model = SBBTree(\n",
    "    params,\n",
    "    stacking_num=1,\n",
    "    bagging_num=3,\n",
    "    bagging_test_size=0.33,\n",
    "    num_boost_round=10000,\n",
    "    early_stopping_rounds=200,\n",
    ")\n",
    "model.fit(X_train, y_train)\n",
    "pred2 = model.predict(X_test)\n",
    "\n",
    "# test 3\n",
    "model = SBBTree(\n",
    "    params,\n",
    "    stacking_num=5,\n",
    "    bagging_num=1,\n",
    "    bagging_test_size=0.33,\n",
    "    num_boost_round=10000,\n",
    "    early_stopping_rounds=200,\n",
    ")\n",
    "model.fit(X_train, y_train)\n",
    "pred3 = model.predict(X_test)\n",
    "\n",
    "# test 4\n",
    "model = SBBTree(\n",
    "    params,\n",
    "    stacking_num=5,\n",
    "    bagging_num=3,\n",
    "    bagging_test_size=0.33,\n",
    "    num_boost_round=10000,\n",
    "    early_stopping_rounds=200,\n",
    ")\n",
    "model.fit(X_train, y_train)\n",
    "pred4 = model.predict(X_test)\n",
    "\n",
    "fpr, tpr, thresholds = metrics.roc_curve(y_test + 1, pred1, pos_label=2)\n",
    "print(\"auc: \", metrics.auc(fpr, tpr))\n",
    "\n",
    "fpr, tpr, thresholds = metrics.roc_curve(y_test + 1, pred2, pos_label=2)\n",
    "print(\"auc: \", metrics.auc(fpr, tpr))\n",
    "\n",
    "fpr, tpr, thresholds = metrics.roc_curve(y_test + 1, pred3, pos_label=2)\n",
    "print(\"auc: \", metrics.auc(fpr, tpr))\n",
    "\n",
    "fpr, tpr, thresholds = metrics.roc_curve(y_test + 1, pred4, pos_label=2)\n",
    "print(\"auc: \", metrics.auc(fpr, tpr))\n"
   ]
  },
  {
   "cell_type": "markdown",
   "metadata": {
    "slideshow": {
     "slide_type": "slide"
    }
   },
   "source": [
    "## 天猫复购场景实战\n"
   ]
  },
  {
   "cell_type": "markdown",
   "metadata": {
    "slideshow": {
     "slide_type": "slide"
    }
   },
   "source": [
    "## 读取特征数据\n"
   ]
  },
  {
   "cell_type": "code",
   "execution_count": 16,
   "metadata": {},
   "outputs": [],
   "source": [
    "import pickle\n",
    "import numpy as np\n",
    "import lightgbm as lgb\n",
    "from sklearn.metrics import f1_score\n",
    "from sklearn.model_selection import train_test_split\n",
    "from sklearn.model_selection import KFold\n",
    "from sklearn.model_selection import StratifiedKFold\n",
    "\n",
    "train_data = pickle.load(open(\"train_all.pkl\", \"br\"))\n",
    "test_data = pickle.load(open(\"test_all.pkl\", \"br\"))\n",
    "\n",
    "features_columns = [\n",
    "    col for col in train_data.columns if col not in [\"user_id\", \"label\"]\n",
    "]\n",
    "train = train_data[features_columns].values\n",
    "test = test_data[features_columns].values\n",
    "target = train_data[\"label\"].values"
   ]
  },
  {
   "cell_type": "markdown",
   "metadata": {
    "slideshow": {
     "slide_type": "slide"
    }
   },
   "source": [
    "## 设置模型参数\n"
   ]
  },
  {
   "cell_type": "code",
   "execution_count": 17,
   "metadata": {},
   "outputs": [],
   "source": [
    "params = {\n",
    "    \"task\": \"train\",\n",
    "    \"boosting_type\": \"gbdt\",\n",
    "    \"objective\": \"binary\",\n",
    "    \"metric\": \"auc\",\n",
    "    \"num_leaves\": 9,\n",
    "    \"learning_rate\": 0.03,\n",
    "    \"feature_fraction_seed\": 2,\n",
    "    \"feature_fraction\": 0.9,\n",
    "    \"bagging_fraction\": 0.8,\n",
    "    \"bagging_freq\": 5,\n",
    "    \"min_data\": 20,\n",
    "    \"min_hessian\": 1,\n",
    "    \"verbose\": -1,\n",
    "    \"silent\": 0,\n",
    "}\n",
    "\n",
    "model = SBBTree(\n",
    "    params=params,\n",
    "    stacking_num=5,\n",
    "    bagging_num=3,\n",
    "    bagging_test_size=0.33,\n",
    "    num_boost_round=10000,\n",
    "    early_stopping_rounds=200,\n",
    ")"
   ]
  },
  {
   "cell_type": "markdown",
   "metadata": {
    "slideshow": {
     "slide_type": "slide"
    }
   },
   "source": [
    "## 模型训练\n"
   ]
  },
  {
   "cell_type": "code",
   "execution_count": 18,
   "metadata": {},
   "outputs": [],
   "source": [
    "model.fit(train, target)"
   ]
  },
  {
   "cell_type": "markdown",
   "metadata": {},
   "source": [
    "## 预测结果\n"
   ]
  },
  {
   "cell_type": "code",
   "execution_count": 19,
   "metadata": {},
   "outputs": [
    {
     "data": {
      "text/html": [
       "<div>\n",
       "<style scoped>\n",
       "    .dataframe tbody tr th:only-of-type {\n",
       "        vertical-align: middle;\n",
       "    }\n",
       "\n",
       "    .dataframe tbody tr th {\n",
       "        vertical-align: top;\n",
       "    }\n",
       "\n",
       "    .dataframe thead th {\n",
       "        text-align: right;\n",
       "    }\n",
       "</style>\n",
       "<table border=\"1\" class=\"dataframe\">\n",
       "  <thead>\n",
       "    <tr style=\"text-align: right;\">\n",
       "      <th></th>\n",
       "      <th>user_id</th>\n",
       "      <th>predict_prob</th>\n",
       "    </tr>\n",
       "  </thead>\n",
       "  <tbody>\n",
       "    <tr>\n",
       "      <th>0</th>\n",
       "      <td>34176</td>\n",
       "      <td>0.144705</td>\n",
       "    </tr>\n",
       "    <tr>\n",
       "      <th>1</th>\n",
       "      <td>34176</td>\n",
       "      <td>0.120743</td>\n",
       "    </tr>\n",
       "    <tr>\n",
       "      <th>2</th>\n",
       "      <td>34176</td>\n",
       "      <td>0.128149</td>\n",
       "    </tr>\n",
       "    <tr>\n",
       "      <th>3</th>\n",
       "      <td>34176</td>\n",
       "      <td>0.137628</td>\n",
       "    </tr>\n",
       "    <tr>\n",
       "      <th>4</th>\n",
       "      <td>230784</td>\n",
       "      <td>0.041309</td>\n",
       "    </tr>\n",
       "  </tbody>\n",
       "</table>\n",
       "</div>"
      ],
      "text/plain": [
       "   user_id  predict_prob\n",
       "0    34176      0.144705\n",
       "1    34176      0.120743\n",
       "2    34176      0.128149\n",
       "3    34176      0.137628\n",
       "4   230784      0.041309"
      ]
     },
     "execution_count": 19,
     "metadata": {},
     "output_type": "execute_result"
    }
   ],
   "source": [
    "pred = model.predict(test)\n",
    "df_out = pd.DataFrame()\n",
    "df_out[\"user_id\"] = test_data[\"user_id\"].astype(int)\n",
    "df_out[\"predict_prob\"] = pred\n",
    "df_out.head()"
   ]
  },
  {
   "cell_type": "markdown",
   "metadata": {},
   "source": [
    "## 保存结果\n"
   ]
  },
  {
   "cell_type": "code",
   "execution_count": 11,
   "metadata": {},
   "outputs": [
    {
     "name": "stdout",
     "output_type": "stream",
     "text": [
      "save OK!\n"
     ]
    }
   ],
   "source": [
    "\"\"\"\n",
    "    保留数据头，不保存index\n",
    "\"\"\"\n",
    "\n",
    "df_out.to_csv(\"./data_format1/df_out.csv\", header=True, index=False)\n",
    "print(\"save OK!\")"
   ]
  }
 ],
 "metadata": {
  "kernelspec": {
   "display_name": "Python 3 (ipykernel)",
   "language": "python",
   "name": "python3"
  },
  "language_info": {
   "codemirror_mode": {
    "name": "ipython",
    "version": 3
   },
   "file_extension": ".py",
   "mimetype": "text/x-python",
   "name": "python",
   "nbconvert_exporter": "python",
   "pygments_lexer": "ipython3",
   "version": "3.11.8"
  },
  "latex_envs": {
   "LaTeX_envs_menu_present": true,
   "autoclose": false,
   "autocomplete": true,
   "bibliofile": "biblio.bib",
   "cite_by": "apalike",
   "current_citInitial": 1,
   "eqLabelWithNumbers": true,
   "eqNumInitial": 1,
   "hotkeys": {
    "equation": "Ctrl-E",
    "itemize": "Ctrl-I"
   },
   "labels_anchors": false,
   "latex_user_defs": false,
   "report_style_numbering": false,
   "user_envs_cfg": false
  }
 },
 "nbformat": 4,
 "nbformat_minor": 2
}
